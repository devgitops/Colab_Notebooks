{
 "cells": [
  {
   "cell_type": "markdown",
   "metadata": {},
   "source": [
    "# Profitable App Profiles for mobile app markets (iOS & android):\n",
    "    \n",
    "    This project aims to conduct an analysis of the apps available in iOS and android app markets: the objective here being to determine features or attributes that affect profitability. As analysts our task is to provide insights for the development team about which app profiles are best suited for revenue generation in the free apps category.\n",
    "    \n",
    "    Since, the apps aimed for development will be in the free apps category, the primary source of revenue generation will be through in-app ads. With revenue generation being affected by the number of users and their active engagement with the in-app ads, our goal is to provide the developmental team with the necessary information to build apps that appeal to the most number of users.\n",
    "    "
   ]
  },
  {
   "cell_type": "markdown",
   "metadata": {},
   "source": [
    "# Exploring the first three rows, the header row, the number of rows and columns for the iOS and android app datasets"
   ]
  },
  {
   "cell_type": "code",
   "execution_count": 1,
   "metadata": {
    "collapsed": false
   },
   "outputs": [
    {
     "name": "stdout",
     "output_type": "stream",
     "text": [
      "['284882215', 'Facebook', '389879808', 'USD', '0.0', '2974676', '212', '3.5', '3.5', '95.0', '4+', 'Social Networking', '37', '1', '29', '1']\n",
      "\n",
      "\n",
      "['389801252', 'Instagram', '113954816', 'USD', '0.0', '2161558', '1289', '4.5', '4.0', '10.23', '12+', 'Photo & Video', '37', '0', '29', '1']\n",
      "\n",
      "\n",
      "['529479190', 'Clash of Clans', '116476928', 'USD', '0.0', '2130805', '579', '4.5', '4.5', '9.24.12', '9+', 'Games', '38', '5', '18', '1']\n",
      "\n",
      "\n",
      "Number of rows:\t\t 7197\n",
      "Number of columns:\t 16\n",
      "\n",
      "\n",
      "['Photo Editor & Candy Camera & Grid & ScrapBook', 'ART_AND_DESIGN', '4.1', '159', '19M', '10,000+', 'Free', '0', 'Everyone', 'Art & Design', 'January 7, 2018', '1.0.0', '4.0.3 and up']\n",
      "\n",
      "\n",
      "['Coloring book moana', 'ART_AND_DESIGN', '3.9', '967', '14M', '500,000+', 'Free', '0', 'Everyone', 'Art & Design;Pretend Play', 'January 15, 2018', '2.0.0', '4.0.3 and up']\n",
      "\n",
      "\n",
      "['U Launcher Lite – FREE Live Cool Themes, Hide Apps', 'ART_AND_DESIGN', '4.7', '87510', '8.7M', '5,000,000+', 'Free', '0', 'Everyone', 'Art & Design', 'August 1, 2018', '1.2.4', '4.0.3 and up']\n",
      "\n",
      "\n",
      "Number of rows:\t\t 10841\n",
      "Number of columns:\t 13\n",
      "\n",
      "\n",
      "apps_data_iOS_hdr:\n",
      " ['id', 'track_name', 'size_bytes', 'currency', 'price', 'rating_count_tot', 'rating_count_ver', 'user_rating', 'user_rating_ver', 'ver', 'cont_rating', 'prime_genre', 'sup_devices.num', 'ipadSc_urls.num', 'lang.num', 'vpp_lic']\n",
      "\n",
      "\n",
      "apps_data_android_hdr:\n",
      " ['App', 'Category', 'Rating', 'Reviews', 'Size', 'Installs', 'Type', 'Price', 'Content Rating', 'Genres', 'Last Updated', 'Current Ver', 'Android Ver']\n",
      "\n",
      "\n"
     ]
    }
   ],
   "source": [
    "def open_dataset(file_name, has_header = True):\n",
    "    opened_file = open(file_name, encoding = 'utf8');\n",
    "    from csv import reader;\n",
    "    read_file = reader(opened_file);\n",
    "    data_set = list(read_file);\n",
    "    \n",
    "    if has_header:\n",
    "        data_set = data_set[1:];\n",
    "        return data_set;\n",
    "    else:\n",
    "        return data_set;\n",
    "\n",
    "apps_data_iOS = open_dataset('AppleStore.csv');\n",
    "apps_data_android = open_dataset('googleplaystore.csv');\n",
    "\n",
    "\n",
    "\n",
    "def explore_data(data_set,start,end,rows_and_columns=False):\n",
    "    \n",
    "    data_set_portion = data_set[start:end];\n",
    "    \n",
    "    for row in data_set_portion:\n",
    "        print(row);\n",
    "        print('\\n');\n",
    "        \n",
    "    if rows_and_columns:\n",
    "        print(\"Number of rows:\\t\\t\",len(data_set));\n",
    "        print(\"Number of columns:\\t\",len(data_set[0]));\n",
    "        print('\\n')\n",
    "        \n",
    "explore_data(apps_data_iOS,0,3,rows_and_columns=True);\n",
    "explore_data(apps_data_android,0,3,rows_and_columns=True);\n",
    "\n",
    "apps_data_iOS_hdr = open_dataset('AppleStore.csv',has_header = False);\n",
    "apps_data_android_hdr = open_dataset('googleplaystore.csv',has_header = False);\n",
    "\n",
    "print(\"apps_data_iOS_hdr:\\n\",apps_data_iOS_hdr[0]);print('\\n');\n",
    "print(\"apps_data_android_hdr:\\n\",apps_data_android_hdr[0]);print('\\n');\n",
    "\n"
   ]
  },
  {
   "cell_type": "markdown",
   "metadata": {},
   "source": [
    "# Fixing an error: Removing an app and its information from the android app dataset "
   ]
  },
  {
   "cell_type": "code",
   "execution_count": 2,
   "metadata": {
    "collapsed": false
   },
   "outputs": [
    {
     "name": "stdout",
     "output_type": "stream",
     "text": [
      "error index:\t 10472\n",
      "['Life Made WI-Fi Touchscreen Photo Frame', '1.9', '19', '3.0M', '1,000+', 'Free', '0', 'Everyone', '', 'February 11, 2018', '1.0.19', '4.0 and up']\n",
      "\n",
      "\n",
      "index of row deleted:\t 10472\n",
      "Current row:\n",
      "['osmino Wi-Fi: free WiFi', 'TOOLS', '4.2', '134203', '4.1M', '10,000,000+', 'Free', '0', 'Everyone', 'Tools', 'August 7, 2018', '6.06.14', '4.4 and up']\n",
      "\n",
      "\n",
      "Current # of rows (android):\t\t 10840\n"
     ]
    }
   ],
   "source": [
    "#Life Made WI-Fi Touchscreen Photo Frame\n",
    "i=0;\n",
    "for row in apps_data_android:\n",
    "    app_name = \"Life Made WI-Fi Touchscreen Photo Frame\"\n",
    "    if row[0] == app_name:\n",
    "        error_index = i;\n",
    "        print(\"error index:\\t\",error_index);\n",
    "        print(row);\n",
    "        del(apps_data_android[i]);\n",
    "    i+=1;\n",
    "\n",
    "print('\\n');print('index of row deleted:\\t',error_index);    \n",
    "print('Current row:')\n",
    "print(apps_data_android[error_index]); print('\\n');\n",
    "\n",
    "print('Current # of rows (android):\\t\\t',len(apps_data_android))\n",
    "\n",
    "\n",
    " \n"
   ]
  },
  {
   "cell_type": "markdown",
   "metadata": {},
   "source": [
    "** Links to documentation:**\n",
    "- [**iOS**][id1]  \n",
    "- [**android**][id2]\n",
    "    \n",
    "   [id1]: https://www.kaggle.com/ramamet4/app-store-apple-data-set-10k-apps\n",
    "   [id2]: https://www.kaggle.com/lava18/google-play-store-apps\n",
    "   \n",
    "   \n",
    "   \n",
    "   \n",
    "  \n",
    "    "
   ]
  },
  {
   "cell_type": "markdown",
   "metadata": {},
   "source": [
    " > ** Certain concerns raised in the discussion section indicate the presence of duplicate entries in the android app store dataset. Some instances of these duplicate entries are shown in the code below. **\n",
    "   "
   ]
  },
  {
   "cell_type": "markdown",
   "metadata": {},
   "source": [
    "# Instances of counts for duplicate apps in android app dataset:"
   ]
  },
  {
   "cell_type": "code",
   "execution_count": 3,
   "metadata": {
    "collapsed": false
   },
   "outputs": [
    {
     "name": "stdout",
     "output_type": "stream",
     "text": [
      "Instances of counts for duplicate apps:\n",
      "Free Dating App - Meet Local Singles - Flirt Chat: 1\n",
      "Cartoon Network App: 1\n",
      "Moto File Manager: 1\n",
      "GO Keyboard - Emoticon keyboard, Free Theme, GIF: 1\n",
      "Sago Mini Friends: 2\n",
      "Textgram - write on photos: 1\n",
      "Cricbuzz - Live Cricket Scores & News: 1\n",
      "HBO GO: Stream with TV Package: 1\n",
      "join.me - Simple Meetings: 2\n",
      "eBay: Buy & Sell this Summer - Discover Deals Now!: 4\n",
      "Amazon Kindle: 1\n",
      "FastMeet: Chat, Dating, Love: 1\n",
      "Robinhood - Investing, No Fees: 1\n",
      "HBO NOW: Stream TV & Movies: 3\n",
      "QuickPic - Photo Gallery with Google Drive Support: 2\n",
      "Calorie Counter - Macros: 1\n",
      "\n",
      "The total number of duplicates:\t1181\n"
     ]
    }
   ],
   "source": [
    "\n",
    "def freq_table(data_set):\n",
    "    duplicate_temp_count = {};\n",
    "    duplicate_count = {}\n",
    "    unique_count = {};\n",
    "    for row in data_set:\n",
    "        name = row[0];\n",
    "        if name in unique_count:\n",
    "            duplicate_temp_count[name] += 1;\n",
    "        else:\n",
    "            unique_count[name] = 1;\n",
    "            duplicate_temp_count[name] = 0;\n",
    "            \n",
    "    for key in duplicate_temp_count:\n",
    "        if duplicate_temp_count[key] != 0:\n",
    "            duplicate_count[key] = duplicate_temp_count[key];\n",
    "    \n",
    "    \n",
    "    return duplicate_count, unique_count\n",
    "\n",
    "(duplicate_tally,unique_tally) = freq_table(apps_data_android);\n",
    "\n",
    "print(\"Instances of counts for duplicate apps:\");\n",
    "count = 1;\n",
    "for key in duplicate_tally:\n",
    "    print(\"%s: %d\"%(key,duplicate_tally[key]));\n",
    "    if count >15:\n",
    "        break;\n",
    "    count +=1;\n",
    "    \n",
    " \n",
    "\n",
    "def tot_freq_table(dict):\n",
    "    tot = 0;\n",
    "    for key in dict:\n",
    "        tot += dict[key];\n",
    "    return tot\n",
    "\n",
    "print(\"\\nThe total number of duplicates:\\t%d\"%tot_freq_table(duplicate_tally))\n",
    "\n",
    "    \n",
    "\n",
    "\n"
   ]
  },
  {
   "cell_type": "markdown",
   "metadata": {},
   "source": [
    "> ** For a given app with multiple entries, original and duplicate(s), we only keep the entry with highest number of reviews. To achieve this we will use a sorting function that takes the app store dataset, apps_data_android, as input and outputs a dataset, app_data_android_clean, that lists only unique entries for apps listed in the app store dataset, corresponding to the highest n.o. of reviews for a given app. ** "
   ]
  },
  {
   "cell_type": "markdown",
   "metadata": {},
   "source": [
    "# Create a new android apps data set, apps_store_android_clean, with unique entries corresponding to the highest number of reviews"
   ]
  },
  {
   "cell_type": "code",
   "execution_count": 4,
   "metadata": {
    "collapsed": false
   },
   "outputs": [
    {
     "name": "stdout",
     "output_type": "stream",
     "text": [
      "len(android_clean):\t 9659\n"
     ]
    }
   ],
   "source": [
    "def sorting_function(data_set):\n",
    "    reviews_max = {};\n",
    "    android_clean = [];\n",
    "    already_added = [];\n",
    "    \n",
    "    for row in data_set:\n",
    "        name = row[0];\n",
    "        n_reviews = float(row[3]);\n",
    "        if name not in reviews_max:\n",
    "            reviews_max[name] = n_reviews;\n",
    "        elif (name in reviews_max) and (n_reviews > reviews_max[name]):\n",
    "            reviews_max[name] = n_reviews;\n",
    "        \n",
    "    for row in data_set:\n",
    "        name = row[0];\n",
    "        n_reviews = float(row[3]);\n",
    "        if (name not in already_added) and (n_reviews == reviews_max[name]):\n",
    "            android_clean.append(row);\n",
    "            already_added.append(name);\n",
    "    \n",
    "    print(\"len(android_clean):\\t\",len(android_clean));  \n",
    "    return android_clean\n",
    "    \n",
    "apps_data_android_clean = sorting_function(apps_data_android)\n",
    "        \n",
    "        "
   ]
  },
  {
   "cell_type": "markdown",
   "metadata": {},
   "source": [
    "Two steps taken above to create a new data set, apps_store_android_clean, of apps with unique entries corresponding to the highest number of reviews:\n",
    "\n",
    "1. Loop through the dataset, apps_data_android, to create a dictionary, reviews_max, where each key is the name of an unique app and the corresponding value the highest number of reviews for that app.\n",
    "2. Loop again through the dataset, apps_data_android, and use the dictionary, reviews_max, key value pairs to create the new data set, apps_data_android_clean.\n"
   ]
  },
  {
   "cell_type": "markdown",
   "metadata": {},
   "source": [
    "# Removing non-english apps from iOS and android app datasets"
   ]
  },
  {
   "cell_type": "code",
   "execution_count": 5,
   "metadata": {
    "collapsed": false
   },
   "outputs": [
    {
     "name": "stdout",
     "output_type": "stream",
     "text": [
      "app1_has_eng:\t True\n",
      "app2_has_eng:\t False\n",
      "app3_has_eng:\t True\n",
      "app4_has_eng:\t True\n"
     ]
    }
   ],
   "source": [
    "def has_english_name(name):\n",
    "    ct_non_en_char = 0;\n",
    "    for char in name:\n",
    "        if ord(char)>127:\n",
    "            ct_non_en_char += 1;\n",
    "            if ct_non_en_char > 3:\n",
    "                return False\n",
    "    return True\n",
    "\n",
    "app1_has_eng =  has_english_name('Instagram');\n",
    "print(\"app1_has_eng:\\t\",app1_has_eng);\n",
    "\n",
    "app2_has_eng =  has_english_name('爱奇艺PPS -《欢乐颂2》电视剧热播');\n",
    "print(\"app2_has_eng:\\t\",app2_has_eng);\n",
    "\n",
    "app3_has_eng =  has_english_name('Docs To Go™ Free Office Suite');\n",
    "print(\"app3_has_eng:\\t\",app3_has_eng);\n",
    "\n",
    "app4_has_eng =  has_english_name('Instachat 😜');\n",
    "print(\"app4_has_eng:\\t\",app4_has_eng);\n",
    "\n"
   ]
  },
  {
   "cell_type": "code",
   "execution_count": 6,
   "metadata": {
    "collapsed": false
   },
   "outputs": [
    {
     "name": "stdout",
     "output_type": "stream",
     "text": [
      "len(apps_data_iOS_eng):\t\t\t 6183\n",
      "len(apps_data_android_clean_eng):\t 9614\n"
     ]
    }
   ],
   "source": [
    "def english_app_selector_iOS(dataset):\n",
    "    new_dataset = [];\n",
    "    for row in dataset:\n",
    "        name = row[1];\n",
    "        if has_english_name(name):\n",
    "            new_dataset.append(row);\n",
    "    return new_dataset\n",
    "\n",
    "def english_app_selector_andr(dataset):\n",
    "    new_dataset = [];\n",
    "    for row in dataset:\n",
    "        name = row[0];\n",
    "        if has_english_name(name):\n",
    "            new_dataset.append(row);\n",
    "    return new_dataset\n",
    "\n",
    "\n",
    "# Two datasets to be evaluated:\n",
    "# 1. apps_data_iOS\n",
    "# 2. apps_data_android_clean\n",
    "\n",
    "apps_data_iOS_eng = english_app_selector_iOS(apps_data_iOS);\n",
    "print(\"len(apps_data_iOS_eng):\\t\\t\\t\",len(apps_data_iOS_eng));\n",
    "\n",
    "apps_data_android_clean_eng = english_app_selector_andr(apps_data_android_clean);\n",
    "print(\"len(apps_data_android_clean_eng):\\t\",len(apps_data_android_clean_eng));\n"
   ]
  },
  {
   "cell_type": "markdown",
   "metadata": {},
   "source": [
    "# Removing non-free apps from iOS and android app datasets"
   ]
  },
  {
   "cell_type": "code",
   "execution_count": 7,
   "metadata": {
    "collapsed": false
   },
   "outputs": [
    {
     "name": "stdout",
     "output_type": "stream",
     "text": [
      "len(apps_data_iOS_eng_free):\t\t 3222\n",
      "len(apps_data_android_clean_eng_free):\t 8864\n"
     ]
    }
   ],
   "source": [
    "def free_app_selector_iOS(dataset):\n",
    "    new_dataset = []\n",
    "    for row in dataset:\n",
    "        price = float(row[4]);\n",
    "        if price == 0.0:\n",
    "            new_dataset.append(row);\n",
    "    return new_dataset\n",
    "\n",
    "def free_app_selector_andr(dataset):\n",
    "    new_dataset = []\n",
    "    for row in dataset:\n",
    "        price = row[7];\n",
    "        if price == '0':\n",
    "            new_dataset.append(row);\n",
    "    return new_dataset\n",
    "\n",
    "apps_data_iOS_eng_free = free_app_selector_iOS(apps_data_iOS_eng);\n",
    "print(\"len(apps_data_iOS_eng_free):\\t\\t\",len(apps_data_iOS_eng_free));\n",
    "\n",
    "\n",
    "apps_data_android_clean_eng_free = free_app_selector_andr(apps_data_android_clean_eng);\n",
    "print(\"len(apps_data_android_clean_eng_free):\\t\",len(apps_data_android_clean_eng_free));"
   ]
  },
  {
   "cell_type": "markdown",
   "metadata": {},
   "source": [
    "The aim of our analysis is to determine the app profiles that are best suited for the iOS and android app markets for attracting the largest number of potential users.\n",
    "\n",
    "Our strategy for accomplishing this will consist of 3 steps:\n",
    "1. Build an android app that meets the mimimal requirements for best suited app profiles.\n",
    "2. Develop the android app further, if it appeals to a large and growing userbase.\n",
    "3. If android app begins to generate profits after 6 months, build an app for the iOS app market."
   ]
  },
  {
   "cell_type": "markdown",
   "metadata": {},
   "source": [
    "# Frequency percentages tables for iOS & android apps datasets based on the number of apps in a given genre or category"
   ]
  },
  {
   "cell_type": "code",
   "execution_count": 8,
   "metadata": {
    "collapsed": false
   },
   "outputs": [],
   "source": [
    "# Genre columns for iOS and android:\n",
    "# 1. iOS_prime_genre = row[11] or row[-5];\n",
    "# 2. andr_Genres = row[9] or row[-4];\n",
    "# 3. andr_Category = row[1];\n",
    "\n",
    "def freq_table(dataset,index):\n",
    "    genre_tally = {};\n",
    "    genre_tally_p = {};\n",
    "    sum = 0;\n",
    "    for row in dataset:\n",
    "        genre = row[index];\n",
    "        if genre in genre_tally:\n",
    "            genre_tally[genre] += 1;\n",
    "        elif genre not in genre_tally:\n",
    "            genre_tally[genre] = 1;\n",
    "    \n",
    "    for key in genre_tally:\n",
    "        sum += genre_tally[key];\n",
    "    \n",
    "    for key in genre_tally:\n",
    "        genre_tally_p[key] = genre_tally[key]*(100/sum);\n",
    "    \n",
    "    return genre_tally_p\n",
    "\n",
    "def display_table(dataset,index):\n",
    "    table = freq_table(dataset,index);\n",
    "    tuple_list = [];\n",
    "    for key in table:\n",
    "        val_key_tuple = (table[key],key);\n",
    "        tuple_list.append(val_key_tuple);\n",
    "    \n",
    "    sorted_tuple_list = sorted(tuple_list, reverse = True);\n",
    "    for row in sorted_tuple_list:\n",
    "        print(row[1],': ',row[0])\n"
   ]
  },
  {
   "cell_type": "code",
   "execution_count": 9,
   "metadata": {
    "collapsed": false,
    "scrolled": true
   },
   "outputs": [
    {
     "name": "stdout",
     "output_type": "stream",
     "text": [
      "fq_table_iOS_prime_genre:\n",
      "\n",
      "Games :  58.16263190564866\n",
      "Entertainment :  7.883302296710117\n",
      "Photo & Video :  4.9658597144630665\n",
      "Education :  3.6623215394165114\n",
      "Social Networking :  3.2898820608317814\n",
      "Shopping :  2.60707635009311\n",
      "Utilities :  2.513966480446927\n",
      "Sports :  2.1415270018621975\n",
      "Music :  2.0484171322160147\n",
      "Health & Fitness :  2.0173805090006205\n",
      "Productivity :  1.7380509000620732\n",
      "Lifestyle :  1.5828677839851024\n",
      "News :  1.3345747982619491\n",
      "Travel :  1.2414649286157666\n",
      "Finance :  1.1173184357541899\n",
      "Weather :  0.8690254500310366\n",
      "Food & Drink :  0.8069522036002482\n",
      "Reference :  0.5586592178770949\n",
      "Business :  0.5276225946617008\n",
      "Book :  0.4345127250155183\n",
      "Navigation :  0.186219739292365\n",
      "Medical :  0.186219739292365\n",
      "Catalogs :  0.12414649286157665\n",
      "\n",
      "\n"
     ]
    }
   ],
   "source": [
    "#fq_table_iOS_prime_genre:\n",
    "print('fq_table_iOS_prime_genre:\\n');\n",
    "display_table(apps_data_iOS_eng_free,-5);\n",
    "print('\\n');"
   ]
  },
  {
   "cell_type": "markdown",
   "metadata": {},
   "source": [
    "The frequency percentages table for the prime_genre column of the iOS apps dataset, apps_data_iOS_eng_free, indicate the following:\n",
    "\n",
    "* The most common genre is the Games (58.16 %) genre. The next most common genre is the Entertainment (7.88 %) genre.\n",
    "* The genres for entertainment (Games, Entertainment, Photo & Video, Social Networking, Sports, Music) account for most (~78 %) of the apps present in the iOS apps dataset, apps_data_iOS_eng_free.\n",
    "* The genres of practical utility (Education, Shopping, Utilities, Productivity, Lifestyle) account for little over a fifth (20+ %) of the apps present in the iOS apps dataset, apps_data_iOS_eng_free.\n",
    "* Based on the information presented in the frequency percentages table, an app profile cannot be recommended. This is the case as the information on the number of apps in a genre does not necessarily correlate to having the potential to attract a large number of users for that genre."
   ]
  },
  {
   "cell_type": "code",
   "execution_count": 10,
   "metadata": {
    "collapsed": false
   },
   "outputs": [
    {
     "name": "stdout",
     "output_type": "stream",
     "text": [
      "fq_table_andr_Genres:\n",
      "\n",
      "Tools :  8.44990974729242\n",
      "Entertainment :  6.069494584837545\n",
      "Education :  5.347472924187726\n",
      "Business :  4.591606498194946\n",
      "Productivity :  3.8921480144404335\n",
      "Lifestyle :  3.8921480144404335\n",
      "Finance :  3.700361010830325\n",
      "Medical :  3.531137184115524\n",
      "Sports :  3.4634476534296033\n",
      "Personalization :  3.3167870036101084\n",
      "Communication :  3.2378158844765346\n",
      "Action :  3.1024368231046933\n",
      "Health & Fitness :  3.0798736462093865\n",
      "Photography :  2.9444945848375452\n",
      "News & Magazines :  2.7978339350180508\n",
      "Social :  2.6624548736462095\n",
      "Travel & Local :  2.3240072202166067\n",
      "Shopping :  2.2450361010830324\n",
      "Books & Reference :  2.143501805054152\n",
      "Simulation :  2.041967509025271\n",
      "Dating :  1.861462093862816\n",
      "Arcade :  1.8501805054151625\n",
      "Video Players & Editors :  1.7712093862815885\n",
      "Casual :  1.7599277978339352\n",
      "Maps & Navigation :  1.3989169675090254\n",
      "Food & Drink :  1.2409747292418774\n",
      "Puzzle :  1.128158844765343\n",
      "Racing :  0.9927797833935019\n",
      "Role Playing :  0.9363718411552348\n",
      "Libraries & Demo :  0.9363718411552348\n",
      "Auto & Vehicles :  0.9250902527075813\n",
      "Strategy :  0.9138086642599279\n",
      "House & Home :  0.8235559566787004\n",
      "Weather :  0.8009927797833936\n",
      "Events :  0.7107400722021661\n",
      "Adventure :  0.6768953068592058\n",
      "Comics :  0.6092057761732852\n",
      "Beauty :  0.5979241877256318\n",
      "Art & Design :  0.5979241877256318\n",
      "Parenting :  0.49638989169675096\n",
      "Card :  0.4512635379061372\n",
      "Casino :  0.42870036101083037\n",
      "Trivia :  0.41741877256317694\n",
      "Educational;Education :  0.39485559566787004\n",
      "Board :  0.3835740072202166\n",
      "Educational :  0.3722924187725632\n",
      "Education;Education :  0.3384476534296029\n",
      "Word :  0.2594765342960289\n",
      "Casual;Pretend Play :  0.23691335740072203\n",
      "Music :  0.20306859205776173\n",
      "Racing;Action & Adventure :  0.16922382671480146\n",
      "Puzzle;Brain Games :  0.16922382671480146\n",
      "Entertainment;Music & Video :  0.16922382671480146\n",
      "Casual;Brain Games :  0.13537906137184116\n",
      "Casual;Action & Adventure :  0.13537906137184116\n",
      "Arcade;Action & Adventure :  0.12409747292418774\n",
      "Action;Action & Adventure :  0.10153429602888087\n",
      "Educational;Pretend Play :  0.09025270758122744\n",
      "Simulation;Action & Adventure :  0.07897111913357402\n",
      "Parenting;Education :  0.07897111913357402\n",
      "Entertainment;Brain Games :  0.07897111913357402\n",
      "Board;Brain Games :  0.07897111913357402\n",
      "Parenting;Music & Video :  0.06768953068592058\n",
      "Educational;Brain Games :  0.06768953068592058\n",
      "Casual;Creativity :  0.06768953068592058\n",
      "Art & Design;Creativity :  0.06768953068592058\n",
      "Education;Pretend Play :  0.05640794223826715\n",
      "Role Playing;Pretend Play :  0.04512635379061372\n",
      "Education;Creativity :  0.04512635379061372\n",
      "Role Playing;Action & Adventure :  0.03384476534296029\n",
      "Puzzle;Action & Adventure :  0.03384476534296029\n",
      "Entertainment;Creativity :  0.03384476534296029\n",
      "Entertainment;Action & Adventure :  0.03384476534296029\n",
      "Educational;Creativity :  0.03384476534296029\n",
      "Educational;Action & Adventure :  0.03384476534296029\n",
      "Education;Music & Video :  0.03384476534296029\n",
      "Education;Brain Games :  0.03384476534296029\n",
      "Education;Action & Adventure :  0.03384476534296029\n",
      "Adventure;Action & Adventure :  0.03384476534296029\n",
      "Video Players & Editors;Music & Video :  0.02256317689530686\n",
      "Sports;Action & Adventure :  0.02256317689530686\n",
      "Simulation;Pretend Play :  0.02256317689530686\n",
      "Puzzle;Creativity :  0.02256317689530686\n",
      "Music;Music & Video :  0.02256317689530686\n",
      "Entertainment;Pretend Play :  0.02256317689530686\n",
      "Casual;Education :  0.02256317689530686\n",
      "Board;Action & Adventure :  0.02256317689530686\n",
      "Video Players & Editors;Creativity :  0.01128158844765343\n",
      "Trivia;Education :  0.01128158844765343\n",
      "Travel & Local;Action & Adventure :  0.01128158844765343\n",
      "Tools;Education :  0.01128158844765343\n",
      "Strategy;Education :  0.01128158844765343\n",
      "Strategy;Creativity :  0.01128158844765343\n",
      "Strategy;Action & Adventure :  0.01128158844765343\n",
      "Simulation;Education :  0.01128158844765343\n",
      "Role Playing;Brain Games :  0.01128158844765343\n",
      "Racing;Pretend Play :  0.01128158844765343\n",
      "Puzzle;Education :  0.01128158844765343\n",
      "Parenting;Brain Games :  0.01128158844765343\n",
      "Music & Audio;Music & Video :  0.01128158844765343\n",
      "Lifestyle;Pretend Play :  0.01128158844765343\n",
      "Lifestyle;Education :  0.01128158844765343\n",
      "Health & Fitness;Education :  0.01128158844765343\n",
      "Health & Fitness;Action & Adventure :  0.01128158844765343\n",
      "Entertainment;Education :  0.01128158844765343\n",
      "Communication;Creativity :  0.01128158844765343\n",
      "Comics;Creativity :  0.01128158844765343\n",
      "Casual;Music & Video :  0.01128158844765343\n",
      "Card;Action & Adventure :  0.01128158844765343\n",
      "Books & Reference;Education :  0.01128158844765343\n",
      "Art & Design;Pretend Play :  0.01128158844765343\n",
      "Art & Design;Action & Adventure :  0.01128158844765343\n",
      "Arcade;Pretend Play :  0.01128158844765343\n",
      "Adventure;Education :  0.01128158844765343\n",
      "\n",
      "\n"
     ]
    }
   ],
   "source": [
    "#fq_table_andr_Genres:\n",
    "print('fq_table_andr_Genres:\\n')\n",
    "display_table(apps_data_android_clean_eng_free,-4);\n",
    "print('\\n');"
   ]
  },
  {
   "cell_type": "code",
   "execution_count": 11,
   "metadata": {
    "collapsed": false
   },
   "outputs": [
    {
     "name": "stdout",
     "output_type": "stream",
     "text": [
      "fq_table_andr_Category:\n",
      "\n",
      "FAMILY :  18.90794223826715\n",
      "GAME :  9.724729241877258\n",
      "TOOLS :  8.461191335740073\n",
      "BUSINESS :  4.591606498194946\n",
      "LIFESTYLE :  3.903429602888087\n",
      "PRODUCTIVITY :  3.8921480144404335\n",
      "FINANCE :  3.700361010830325\n",
      "MEDICAL :  3.531137184115524\n",
      "SPORTS :  3.3957581227436826\n",
      "PERSONALIZATION :  3.3167870036101084\n",
      "COMMUNICATION :  3.2378158844765346\n",
      "HEALTH_AND_FITNESS :  3.0798736462093865\n",
      "PHOTOGRAPHY :  2.9444945848375452\n",
      "NEWS_AND_MAGAZINES :  2.7978339350180508\n",
      "SOCIAL :  2.6624548736462095\n",
      "TRAVEL_AND_LOCAL :  2.3352888086642603\n",
      "SHOPPING :  2.2450361010830324\n",
      "BOOKS_AND_REFERENCE :  2.143501805054152\n",
      "DATING :  1.861462093862816\n",
      "VIDEO_PLAYERS :  1.7937725631768955\n",
      "MAPS_AND_NAVIGATION :  1.3989169675090254\n",
      "FOOD_AND_DRINK :  1.2409747292418774\n",
      "EDUCATION :  1.1620036101083033\n",
      "ENTERTAINMENT :  0.9589350180505416\n",
      "LIBRARIES_AND_DEMO :  0.9363718411552348\n",
      "AUTO_AND_VEHICLES :  0.9250902527075813\n",
      "HOUSE_AND_HOME :  0.8235559566787004\n",
      "WEATHER :  0.8009927797833936\n",
      "EVENTS :  0.7107400722021661\n",
      "PARENTING :  0.654332129963899\n",
      "ART_AND_DESIGN :  0.6430505415162455\n",
      "COMICS :  0.6204873646209387\n",
      "BEAUTY :  0.5979241877256318\n",
      "\n",
      "\n"
     ]
    }
   ],
   "source": [
    "#fq_table_andr_Category:\n",
    "print('fq_table_andr_Category:\\n')\n",
    "display_table(apps_data_android_clean_eng_free,1);\n",
    "print('\\n');\n"
   ]
  },
  {
   "cell_type": "markdown",
   "metadata": {},
   "source": [
    "The frequency percentages tables for the Genres & Category columns of the android apps store dataset, apps_data_android_clean_eng_free, indicate the following:\n",
    "\n",
    "* The most common genre is the Tools (8.4 %) genre, followed by the Entertainment (6.0 %) and Education (5.3 %) genres.\n",
    "* The app categories of practical (Family, Tools, Business, Productivity,...) utility account for over two-thirds (66+ %) of the apps present in the android apps dataset, apps_data_android_clean_eng_free.\n",
    "* The app categories for entertainment (Game, Lifestyle, Sports, Photography, Social, Dating, Entertainment, Art and Design, Comics) account for over a quarter (25+ %) of the apps present in the android apps dataset, apps_data_android_clean_eng_free.\n",
    "* Up to this point, we found that the iOS apps dataset is dominated by apps designed for entertainment, while the android apps dataset shows a more balanced landscape of both practical and entertainment apps. \n",
    "* Based on the information presented in the frequency percentages tables, an app profile cannot be recommended. This is the case as the information on the number of apps in a genre does not necessarily correlate to having the potential to attract a large number of users for that genre.\n",
    "\n",
    "* Most frequent app categories/genres for android and iOS app datasets:\n",
    "    * iOS: Games, Entertainment, Photo & Video, Social Networking, Sports, Music\n",
    "    * android: Family, Tools, Business, Productivity"
   ]
  },
  {
   "cell_type": "markdown",
   "metadata": {},
   "source": [
    "# Average number of ratings for app categories for iOS app datasets."
   ]
  },
  {
   "cell_type": "code",
   "execution_count": 12,
   "metadata": {
    "collapsed": false,
    "scrolled": false
   },
   "outputs": [
    {
     "name": "stdout",
     "output_type": "stream",
     "text": [
      "Navigation :  86090.33333333333\n",
      "Reference :  74942.11111111111\n",
      "Social Networking :  71548.34905660378\n",
      "Music :  57326.530303030304\n",
      "Weather :  52279.892857142855\n",
      "Book :  39758.5\n",
      "Food & Drink :  33333.92307692308\n",
      "Finance :  31467.944444444445\n",
      "Photo & Video :  28441.54375\n",
      "Travel :  28243.8\n",
      "Shopping :  26919.690476190477\n",
      "Health & Fitness :  23298.015384615384\n",
      "Sports :  23008.898550724636\n",
      "Games :  22788.6696905016\n",
      "News :  21248.023255813954\n",
      "Productivity :  21028.410714285714\n",
      "Utilities :  18684.456790123455\n",
      "Lifestyle :  16485.764705882353\n",
      "Entertainment :  14029.830708661417\n",
      "Business :  7491.117647058823\n",
      "Education :  7003.983050847458\n",
      "Catalogs :  4004.0\n",
      "Medical :  612.0\n",
      "\n",
      "\n",
      "[['Navigation', 86090.33333333333], ['Reference', 74942.11111111111], ['Social Networking', 71548.34905660378], ['Music', 57326.530303030304], ['Weather', 52279.892857142855]]\n"
     ]
    }
   ],
   "source": [
    "def freq_table_gen_rct(dataset):\n",
    "    gen_rct = {};\n",
    "    \n",
    "    for row in dataset:\n",
    "        genre = row[-5];\n",
    "        total = 0;\n",
    "        len_genre = 0;\n",
    "\n",
    "        if genre not in gen_rct:\n",
    "            for row in dataset:\n",
    "                genre_app = row[-5];\n",
    "                rct = float(row[5]);\n",
    "                if genre_app == genre:\n",
    "                    total += rct;\n",
    "                    len_genre += 1;\n",
    "            \n",
    "            gen_rct[genre] = total/len_genre;\n",
    "            \n",
    "    return gen_rct\n",
    "\n",
    "def freq_table_sorted_gen_rct(dataset):\n",
    "    gen_rct = freq_table_gen_rct(dataset);\n",
    "    tuple_gen_rct = [];\n",
    "    sorted_gen_rct = [];\n",
    "    \n",
    "    for key in gen_rct:\n",
    "        val_key_gen_rct = (gen_rct[key],key);\n",
    "        tuple_gen_rct.append(val_key_gen_rct);\n",
    "    \n",
    "    sorted_tuple_gen_rct = sorted(tuple_gen_rct, reverse = True);\n",
    "    \n",
    "    for row in sorted_tuple_gen_rct:\n",
    "        key_gen = row[1];\n",
    "        val_rct = row[0]; \n",
    "        row_c = [key_gen,val_rct];\n",
    "        sorted_gen_rct.append(row_c);\n",
    "        print(key_gen, \": \", val_rct)\n",
    "    \n",
    "    \n",
    "    return sorted_gen_rct\n",
    "\n",
    "dataset_gen_rct = freq_table_sorted_gen_rct(apps_data_iOS_eng_free)\n",
    "\n",
    "print('\\n');\n",
    "print(dataset_gen_rct[:5])\n",
    "\n"
   ]
  },
  {
   "cell_type": "markdown",
   "metadata": {},
   "source": [
    "> \n",
    "Based on the information presented in the frequency table for the key value pair, prime_genre, and rating_count_tot, the following genres are recommended for app profiles for the iOS apps store:  \n",
    "  1. Navigation\n",
    "  2. Reference/Social Networking\n",
    "  3. Music\n",
    "  4. Weather\n",
    ">  \n",
    ">  Eg: Waze + Wikipedia/Reddit + Spotify + Weatherapp\n"
   ]
  },
  {
   "cell_type": "markdown",
   "metadata": {},
   "source": [
    "# Average number of installs for app categories for android app datasets."
   ]
  },
  {
   "cell_type": "code",
   "execution_count": 13,
   "metadata": {
    "collapsed": false
   },
   "outputs": [
    {
     "name": "stdout",
     "output_type": "stream",
     "text": [
      "COMMUNICATION :  38456119.167247385\n",
      "VIDEO_PLAYERS :  24727872.452830188\n",
      "SOCIAL :  23253652.127118643\n",
      "PHOTOGRAPHY :  17840110.40229885\n",
      "PRODUCTIVITY :  16787331.344927534\n",
      "GAME :  15588015.603248259\n",
      "TRAVEL_AND_LOCAL :  13984077.710144928\n",
      "ENTERTAINMENT :  11640705.88235294\n",
      "TOOLS :  10801391.298666667\n",
      "NEWS_AND_MAGAZINES :  9549178.467741935\n",
      "BOOKS_AND_REFERENCE :  8767811.894736841\n",
      "SHOPPING :  7036877.311557789\n",
      "PERSONALIZATION :  5201482.6122448975\n",
      "WEATHER :  5074486.197183099\n",
      "HEALTH_AND_FITNESS :  4188821.9853479853\n",
      "MAPS_AND_NAVIGATION :  4056941.7741935486\n",
      "FAMILY :  3695641.8198090694\n",
      "SPORTS :  3638640.1428571427\n",
      "ART_AND_DESIGN :  1986335.0877192982\n",
      "FOOD_AND_DRINK :  1924897.7363636363\n",
      "EDUCATION :  1833495.145631068\n",
      "BUSINESS :  1712290.1474201474\n",
      "LIFESTYLE :  1437816.2687861272\n",
      "FINANCE :  1387692.475609756\n",
      "HOUSE_AND_HOME :  1331540.5616438356\n",
      "DATING :  854028.8303030303\n",
      "COMICS :  817657.2727272727\n",
      "AUTO_AND_VEHICLES :  647317.8170731707\n",
      "LIBRARIES_AND_DEMO :  638503.734939759\n",
      "PARENTING :  542603.6206896552\n",
      "BEAUTY :  513151.88679245283\n",
      "EVENTS :  253542.22222222222\n",
      "MEDICAL :  120550.61980830671\n",
      "\n",
      "\n"
     ]
    }
   ],
   "source": [
    "def freq_table_categ_ninst(dataset):\n",
    "    categ_ninst = {};\n",
    "    for row in dataset:\n",
    "        categ = row[1];\n",
    "        total = 0;\n",
    "        len_category = 0;\n",
    "        if categ not in categ_ninst:\n",
    "            for row in dataset:\n",
    "                categ_app = row[1];\n",
    "                if categ_app == categ:\n",
    "                    str_install = row[5];\n",
    "                    str_install = str_install.replace('+','');\n",
    "                    str_install = str_install.replace(',','');\n",
    "                    n_install = float(str_install);\n",
    "                    total += n_install;\n",
    "                    len_category += 1;\n",
    "            \n",
    "            if total != 0 or len_category != 0:\n",
    "                categ_ninst[categ] = total/len_category;\n",
    "    \n",
    "    return categ_ninst\n",
    "\n",
    "def dataset_sorted_categ_ninst(dataset):\n",
    "    sorted_dataset_categ_ninst = [];\n",
    "    tuple_categ_ninst = [];\n",
    "    table = freq_table_categ_ninst(dataset);\n",
    "    for key in table:\n",
    "        key_val_tup = (table[key],key);\n",
    "        tuple_categ_ninst.append(key_val_tup);\n",
    "    \n",
    "    sorted_tuple_categ_ninst = sorted(tuple_categ_ninst, reverse = True);\n",
    "    \n",
    "    for row in sorted_tuple_categ_ninst:\n",
    "        key_categ = row[1];\n",
    "        val_ninst = row[0];\n",
    "        print(key_categ,': ',val_ninst);\n",
    "        row_c = [key_categ,val_ninst];\n",
    "        sorted_dataset_categ_ninst.append(row_c);\n",
    "    \n",
    "    return sorted_dataset_categ_ninst\n",
    "\n",
    "dataset_categ_ninst = dataset_sorted_categ_ninst(apps_data_android_clean_eng_free);\n",
    "print('\\n');\n",
    "#print(dataset_categ_ninst[:5])\n",
    "    "
   ]
  },
  {
   "cell_type": "markdown",
   "metadata": {},
   "source": [
    "> \n",
    "Based on the information presented in the frequency table for the key value pair, Category, and Installs, the following genres are recommended for app profiles for the android apps store:  \n",
    "  1. Communication\n",
    "  2. Video_Players\n",
    "  3. Social\n",
    "  4. Photography\n",
    ">  \n",
    "> Eg: Wire + Vlc + Reddit + Adobe Lightroom"
   ]
  },
  {
   "cell_type": "markdown",
   "metadata": {},
   "source": [
    "# Average ratings for app genres for android app datasets."
   ]
  },
  {
   "cell_type": "code",
   "execution_count": 14,
   "metadata": {
    "collapsed": false,
    "scrolled": false
   },
   "outputs": [
    {
     "name": "stdout",
     "output_type": "stream",
     "text": [
      "Comics;Creativity :  4.8\n",
      "Health & Fitness;Education :  4.7\n",
      "Strategy;Action & Adventure :  4.6\n",
      "Puzzle;Education :  4.6\n",
      "Simulation;Pretend Play :  4.55\n",
      "Entertainment;Creativity :  4.533333333333333\n",
      "Tools;Education :  4.5\n",
      "Strategy;Education :  4.5\n",
      "Sports;Action & Adventure :  4.5\n",
      "Racing;Pretend Play :  4.5\n",
      "Arcade;Pretend Play :  4.5\n",
      "Casual;Brain Games :  4.475\n",
      "Music;Music & Video :  4.449999999999999\n",
      "Events :  4.435555555555557\n",
      "Education;Brain Games :  4.433333333333334\n",
      "Strategy;Creativity :  4.4\n",
      "Simulation;Education :  4.4\n",
      "Puzzle;Creativity :  4.4\n",
      "Entertainment;Education :  4.4\n",
      "Arcade;Action & Adventure :  4.4\n",
      "Adventure;Action & Adventure :  4.3999999999999995\n",
      "Parenting :  4.3921052631578945\n",
      "Education;Creativity :  4.375\n",
      "Puzzle :  4.355421686746987\n",
      "Casual;Creativity :  4.35\n",
      "Art & Design;Creativity :  4.35\n",
      "Books & Reference :  4.347798742138364\n",
      "Simulation;Action & Adventure :  4.3428571428571425\n",
      "Art & Design :  4.3352941176470585\n",
      "Role Playing;Action & Adventure :  4.333333333333333\n",
      "Parenting;Music & Video :  4.333333333333333\n",
      "Puzzle;Brain Games :  4.333333333333332\n",
      "Word :  4.318181818181819\n",
      "Racing;Action & Adventure :  4.313333333333333\n",
      "Education;Education :  4.303333333333332\n",
      "Personalization :  4.300000000000001\n",
      "Educational;Pretend Play :  4.300000000000001\n",
      "Role Playing;Brain Games :  4.3\n",
      "Puzzle;Action & Adventure :  4.3\n",
      "Music & Audio;Music & Video :  4.3\n",
      "Lifestyle;Education :  4.3\n",
      "Entertainment;Brain Games :  4.3\n",
      "Card;Action & Adventure :  4.3\n",
      "Education :  4.294117647058822\n",
      "Action;Action & Adventure :  4.288888888888888\n",
      "Role Playing :  4.281250000000001\n",
      "Beauty :  4.278571428571428\n",
      "Casino :  4.277777777777778\n",
      "Board :  4.2718750000000005\n",
      "Education;Action & Adventure :  4.266666666666667\n",
      "Arcade :  4.266233766233768\n",
      "Social :  4.252736318407958\n",
      "Casual;Education :  4.25\n",
      "Health & Fitness :  4.236051502145922\n",
      "Action :  4.235447761194027\n",
      "Educational;Action & Adventure :  4.233333333333333\n",
      "Weather :  4.229230769230768\n",
      "Board;Brain Games :  4.228571428571429\n",
      "Shopping :  4.227528089887643\n",
      "Educational;Education :  4.224242424242425\n",
      "Sports :  4.220491803278688\n",
      "Educational;Brain Games :  4.216666666666667\n",
      "Entertainment;Action & Adventure :  4.2\n",
      "Educational;Creativity :  4.2\n",
      "Communication;Creativity :  4.2\n",
      "Auto & Vehicles :  4.184722222222223\n",
      "Casual;Action & Adventure :  4.183333333333333\n",
      "Productivity :  4.1819148936170265\n",
      "Entertainment;Music & Video :  4.180000000000001\n",
      "Libraries & Demo :  4.178125\n",
      "Strategy :  4.174025974025973\n",
      "Food & Drink :  4.1673913043478255\n",
      "Comics :  4.165384615384617\n",
      "Photography :  4.164516129032258\n",
      "Medical :  4.147807017543858\n",
      "Racing :  4.147619047619049\n",
      "House & Home :  4.140983606557378\n",
      "Simulation :  4.135999999999999\n",
      "Music :  4.135294117647058\n",
      "Education;Music & Video :  4.133333333333333\n",
      "Finance :  4.128373702422146\n",
      "Adventure :  4.127586206896552\n",
      "Communication :  4.126923076923076\n",
      "Role Playing;Pretend Play :  4.125\n",
      "Casual;Pretend Play :  4.114285714285715\n",
      "News & Magazines :  4.1045454545454545\n",
      "Business :  4.10395256916996\n",
      "Video Players & Editors;Creativity :  4.1\n",
      "Travel & Local;Action & Adventure :  4.1\n",
      "Education;Pretend Play :  4.1\n",
      "Casual;Music & Video :  4.1\n",
      "Adventure;Education :  4.1\n",
      "Casual :  4.0873333333333335\n",
      "Lifestyle :  4.082374100719423\n",
      "Entertainment :  4.0734065934065935\n",
      "Travel & Local :  4.067977528089886\n",
      "Board;Action & Adventure :  4.05\n",
      "Video Players & Editors :  4.043356643356644\n",
      "Maps & Navigation :  4.039285714285714\n",
      "Card :  4.031578947368422\n",
      "Tools :  4.027134146341464\n",
      "Trivia :  4.014814814814814\n",
      "Video Players & Editors;Music & Video :  4.0\n",
      "Lifestyle;Pretend Play :  4.0\n",
      "Entertainment;Pretend Play :  4.0\n",
      "Dating :  3.9824427480916027\n",
      "Educational :  3.9066666666666667\n",
      "Health & Fitness;Action & Adventure :  3.9\n",
      "Art & Design;Pretend Play :  3.9\n",
      "Parenting;Education :  3.8666666666666667\n",
      "Parenting;Brain Games :  3.8\n",
      "Books & Reference;Education :  3.7\n"
     ]
    }
   ],
   "source": [
    "#dataset = apps_data_android_clean_eng_free; genre = row[-4]; rating = row[2]; \n",
    "\n",
    "def freq_table_andr_genre_rating(dataset,in1,in2):\n",
    "    import numpy as np;\n",
    "    fq_table = {};\n",
    "    for row in dataset:\n",
    "        genre = row[in1];\n",
    "        \n",
    "        if genre not in fq_table:\n",
    "            total = 0;\n",
    "            len_genre = 0;\n",
    "            for row in dataset:\n",
    "                genre_app = row[in1];\n",
    "                if genre_app == genre:\n",
    "                    rating = row[in2];\n",
    "                    rating = float(row[in2]);\n",
    "                    if np.isnan(rating):\n",
    "                        pass;\n",
    "                    else:\n",
    "                        total += rating;\n",
    "                        len_genre += 1; \n",
    "            if len_genre != 0 or total !=0:\n",
    "                fq_table[genre] = total/len_genre;\n",
    "\n",
    "    return fq_table\n",
    "\n",
    "\n",
    "def sorted_tuple(dataset,in1,in2):\n",
    "    tup_list = [];           \n",
    "    table = freq_table_andr_genre_rating(dataset,in1,in2)\n",
    "                \n",
    "    for key in table:\n",
    "        key_val_tup = (table[key],key);\n",
    "        tup_list.append(key_val_tup);\n",
    "\n",
    "    sorted_tup_list = sorted(tup_list,reverse = True);\n",
    "                 \n",
    "    for tup in sorted_tup_list:\n",
    "        key = tup[1];\n",
    "        val = tup[0];\n",
    "        print(key,\": \",val)        \n",
    "\n",
    "           \n",
    "                 \n",
    "dataset = apps_data_android_clean_eng_free; in1 = -4; in2 = 2; \n",
    "sorted_tuple(dataset,in1,in2)                "
   ]
  },
  {
   "cell_type": "markdown",
   "metadata": {},
   "source": [
    "# Average ratings for app categories for android app datasets.\n"
   ]
  },
  {
   "cell_type": "code",
   "execution_count": 15,
   "metadata": {
    "collapsed": false
   },
   "outputs": [
    {
     "name": "stdout",
     "output_type": "stream",
     "text": [
      "EVENTS :  4.435555555555557\n",
      "BOOKS_AND_REFERENCE :  4.347798742138364\n",
      "EDUCATION :  4.3401960784313705\n",
      "PARENTING :  4.3395833333333345\n",
      "ART_AND_DESIGN :  4.338181818181818\n",
      "PERSONALIZATION :  4.300000000000001\n",
      "BEAUTY :  4.278571428571428\n",
      "SOCIAL :  4.252736318407958\n",
      "HEALTH_AND_FITNESS :  4.236051502145922\n",
      "GAME :  4.2320341047503085\n",
      "WEATHER :  4.229230769230768\n",
      "SHOPPING :  4.227528089887643\n",
      "SPORTS :  4.212605042016807\n",
      "AUTO_AND_VEHICLES :  4.184722222222223\n",
      "PRODUCTIVITY :  4.1819148936170265\n",
      "LIBRARIES_AND_DEMO :  4.178125\n",
      "COMICS :  4.177358490566039\n",
      "FAMILY :  4.171361185983833\n",
      "FOOD_AND_DRINK :  4.1673913043478255\n",
      "PHOTOGRAPHY :  4.164516129032258\n",
      "MEDICAL :  4.147807017543858\n",
      "HOUSE_AND_HOME :  4.140983606557378\n",
      "FINANCE :  4.128373702422146\n",
      "COMMUNICATION :  4.126923076923076\n",
      "ENTERTAINMENT :  4.118823529411763\n",
      "NEWS_AND_MAGAZINES :  4.1045454545454545\n",
      "BUSINESS :  4.10395256916996\n",
      "LIFESTYLE :  4.082078853046592\n",
      "TRAVEL_AND_LOCAL :  4.068156424581004\n",
      "VIDEO_PLAYERS :  4.043448275862069\n",
      "MAPS_AND_NAVIGATION :  4.039285714285714\n",
      "TOOLS :  4.027853881278539\n",
      "DATING :  3.9824427480916027\n"
     ]
    }
   ],
   "source": [
    "#dataset = apps_data_android_clean_eng_free; category = row[1]; rating = row[2]; \n",
    "\n",
    "dataset = apps_data_android_clean_eng_free; in1 = 1; in2 = 2; \n",
    "sorted_tuple(dataset,in1,in2)            \n"
   ]
  },
  {
   "cell_type": "markdown",
   "metadata": {},
   "source": [
    "> Based on the information presented in the frequency table for the key value pair, Category, and Rating, the following genres are recommended for app profiles for the android apps store, since avg. ratings indicate room for the development of better rated apps:\n",
    ">\n",
    "1. Communication\n",
    "2. Video_Players\n",
    "3. Social\n",
    "4. Photography\n",
    ">  \n",
    "> Eg: Wire + Vlc + Reddit + Adobe Lightroom"
   ]
  },
  {
   "cell_type": "markdown",
   "metadata": {},
   "source": [
    "# Picking the top three apps in each of the above categories based on number of installs for an app"
   ]
  },
  {
   "cell_type": "code",
   "execution_count": 16,
   "metadata": {
    "collapsed": false
   },
   "outputs": [
    {
     "name": "stdout",
     "output_type": "stream",
     "text": [
      "COMMUNICATION\n",
      "WhatsApp Messenger :  1000000000.0\n",
      "Skype - free IM & video calls :  1000000000.0\n",
      "Messenger – Text and Video Chat for Free :  1000000000.0\n"
     ]
    }
   ],
   "source": [
    "#dataset = apps_data_android_clean_eng_free; category = row[1]; name = row[0]; n_installs = row[5]; \n",
    "\n",
    "def table_keyword(dataset,in1,in2,in3,keyword):\n",
    "    keyword_dict = {};\n",
    "    for row in dataset:\n",
    "        categ = row[1];\n",
    "        #print(categ);\n",
    "        #print(keyword);\n",
    "        if categ == keyword:\n",
    "            name = row[0];\n",
    "            str_install = row[5];\n",
    "            str_install = str_install.replace(\"+\",\"\");\n",
    "            str_install = str_install.replace(\",\",\"\");\n",
    "            n_install   = float(str_install);\n",
    "            keyword_dict[name] = n_install;\n",
    "    return keyword_dict\n",
    "\n",
    " \n",
    "def sorted_table(table):\n",
    "    \n",
    "    tup_list = [];\n",
    "    \n",
    "    for key in table:\n",
    "        key_val_tup = (table[key],key);\n",
    "        tup_list.append(key_val_tup);\n",
    "    \n",
    "    sorted_tup_list = sorted(tup_list,reverse = True);\n",
    "    \n",
    "    count = 0;\n",
    "    for key_val in sorted_tup_list:\n",
    "        if count>=3:\n",
    "            break;\n",
    "        name_ = key_val[1]; ninst = key_val[0];\n",
    "        print(name_,': ',ninst);\n",
    "        count += 1;\n",
    "    \n",
    "    \n",
    "        \n",
    "dataset = apps_data_android_clean_eng_free; \n",
    "in1 = 1; in2 = 0; in3 = 5; keyword = \"COMMUNICATION\"\n",
    "print(keyword)\n",
    "table = table_keyword(dataset,in1,in2,in3,keyword); \n",
    "sorted_table(table)"
   ]
  },
  {
   "cell_type": "code",
   "execution_count": 17,
   "metadata": {
    "collapsed": false
   },
   "outputs": [
    {
     "name": "stdout",
     "output_type": "stream",
     "text": [
      "VIDEO_PLAYERS\n",
      "YouTube :  1000000000.0\n",
      "Google Play Movies & TV :  1000000000.0\n",
      "MX Player :  500000000.0\n"
     ]
    }
   ],
   "source": [
    "dataset = apps_data_android_clean_eng_free; \n",
    "in1 = 1; in2 = 0; in3 = 5; keyword = \"VIDEO_PLAYERS\"\n",
    "print(keyword)\n",
    "table = table_keyword(dataset,in1,in2,in3,keyword); \n",
    "sorted_table(table)"
   ]
  },
  {
   "cell_type": "code",
   "execution_count": 18,
   "metadata": {
    "collapsed": false
   },
   "outputs": [
    {
     "name": "stdout",
     "output_type": "stream",
     "text": [
      "SOCIAL\n",
      "Instagram :  1000000000.0\n",
      "Google+ :  1000000000.0\n",
      "Facebook :  1000000000.0\n"
     ]
    }
   ],
   "source": [
    "dataset = apps_data_android_clean_eng_free; \n",
    "in1 = 1; in2 = 0; in3 = 5; keyword = \"SOCIAL\";\n",
    "print(keyword)\n",
    "table = table_keyword(dataset,in1,in2,in3,keyword); \n",
    "sorted_table(table)"
   ]
  },
  {
   "cell_type": "code",
   "execution_count": 19,
   "metadata": {
    "collapsed": false,
    "scrolled": false
   },
   "outputs": [
    {
     "name": "stdout",
     "output_type": "stream",
     "text": [
      "PHOTOGRAPHY\n",
      "Google Photos :  1000000000.0\n",
      "Z Camera - Photo Editor, Beauty Selfie, Collage :  100000000.0\n",
      "YouCam Perfect - Selfie Photo Editor :  100000000.0\n"
     ]
    }
   ],
   "source": [
    "dataset = apps_data_android_clean_eng_free; \n",
    "in1 = 1; in2 = 0; in3 = 5; keyword = \"PHOTOGRAPHY\";\n",
    "print(keyword)\n",
    "table = table_keyword(dataset,in1,in2,in3,keyword); \n",
    "sorted_table(table)"
   ]
  },
  {
   "cell_type": "markdown",
   "metadata": {},
   "source": [
    "> The above information indicates that the development of a multi-purpose app that offers the services of a communication app, a video player app, a social networking app, and a photography app will likely appeal to the most number of potential users for the android app store."
   ]
  },
  {
   "cell_type": "markdown",
   "metadata": {},
   "source": [
    "# Average rating for app genres for iOS app datasets."
   ]
  },
  {
   "cell_type": "code",
   "execution_count": 20,
   "metadata": {
    "collapsed": false
   },
   "outputs": [
    {
     "name": "stdout",
     "output_type": "stream",
     "text": [
      "Catalogs :  4.125\n",
      "Games :  4.037086446104589\n",
      "Productivity :  4.0\n",
      "Business :  3.9705882352941178\n",
      "Shopping :  3.9702380952380953\n",
      "Music :  3.946969696969697\n",
      "Photo & Video :  3.903125\n",
      "Navigation :  3.8333333333333335\n",
      "Health & Fitness :  3.769230769230769\n",
      "Reference :  3.6666666666666665\n",
      "Education :  3.635593220338983\n",
      "Food & Drink :  3.6346153846153846\n",
      "Social Networking :  3.5943396226415096\n",
      "Entertainment :  3.5393700787401574\n",
      "Utilities :  3.5308641975308643\n",
      "Travel :  3.4875\n",
      "Weather :  3.482142857142857\n",
      "Lifestyle :  3.411764705882353\n",
      "Finance :  3.375\n",
      "News :  3.244186046511628\n",
      "Book :  3.0714285714285716\n",
      "Sports :  3.0652173913043477\n",
      "Medical :  3.0\n",
      "\n",
      "\n"
     ]
    }
   ],
   "source": [
    "def freq_table_genre_rating(dataset):\n",
    "    genre_rating = {};\n",
    "    for row in dataset:\n",
    "        genre = row[-5];\n",
    "        total = 0;\n",
    "        len_genre = 0;\n",
    "        if genre not in genre_rating:\n",
    "            for row in dataset:\n",
    "                genre_app = row[-5];\n",
    "                if genre_app == genre:\n",
    "                    rating = float(row[7]);\n",
    "                    total += rating;\n",
    "                    len_genre += 1;\n",
    "            \n",
    "            genre_rating[genre] = total/len_genre;\n",
    "    \n",
    "    return genre_rating\n",
    "\n",
    "def dataset_sorted_genre_rating(dataset):\n",
    "    sorted_dataset_genre_rating = [];\n",
    "    tuple_genre_rating = [];\n",
    "    table = freq_table_genre_rating(dataset);\n",
    "    for key in table:\n",
    "        key_val_tup = (table[key],key);\n",
    "        tuple_genre_rating.append(key_val_tup);\n",
    "    \n",
    "    sorted_tuple_genre_rating = sorted(tuple_genre_rating, reverse = True);\n",
    "    \n",
    "    for row in sorted_tuple_genre_rating:\n",
    "        key_genre = row[1];\n",
    "        val_rating = row[0];\n",
    "        print(key_genre,': ',val_rating);\n",
    "        row_c = [key_genre,val_rating];\n",
    "        sorted_dataset_genre_rating.append(row_c);\n",
    "    \n",
    "    return sorted_dataset_genre_rating\n",
    "\n",
    "dataset_genre_rating = dataset_sorted_genre_rating(apps_data_iOS_eng_free);\n",
    "print('\\n');\n",
    "#print(dataset_genre_rating[:5])\n",
    "    "
   ]
  },
  {
   "cell_type": "markdown",
   "metadata": {},
   "source": [
    "> Based on the information presented in the frequency table for the key value pair, prime_genre, and user_rating, the following genres are recommended for app profiles for the iOS apps store, since avg. ratings indicate room for the development of better rated apps:\n",
    ">\n",
    "1. Navigation\n",
    "2. Social Networking\n",
    "3. Music\n",
    "4. Weather\n",
    ">\n",
    "> Eg: Waze + Reddit + Spotify + Weatherapp"
   ]
  },
  {
   "cell_type": "markdown",
   "metadata": {},
   "source": [
    "# Picking the top three apps in each of the above categories based on total number of ratings for an app"
   ]
  },
  {
   "cell_type": "code",
   "execution_count": 21,
   "metadata": {
    "collapsed": false
   },
   "outputs": [
    {
     "name": "stdout",
     "output_type": "stream",
     "text": [
      "Navigation\n",
      "Waze - GPS Navigation, Maps & Real-time Traffic :  345046.0\n",
      "Google Maps - Navigation & Transit :  154911.0\n",
      "Geocaching® :  12811.0\n"
     ]
    }
   ],
   "source": [
    "#dataset = apps_data_iOS_eng_free:\n",
    "#prime_genre = row[-5];\n",
    "#track_name = row[1];\n",
    "#rating_count_tot = row[5];\n",
    "\n",
    "\n",
    "def dict_keyword(dataset,in1,in2,in3,keyword):\n",
    "    keyword_dict = {};\n",
    "    for row in dataset:\n",
    "        genre = row[in1];\n",
    "        if genre == keyword:\n",
    "            name = row[in2];\n",
    "            r_ct = float(row[in3]);\n",
    "            keyword_dict[name] = r_ct;\n",
    "            \n",
    "    return keyword_dict\n",
    "\n",
    "def dataset_sorted(dataset,in1,in2,in3,keyword):\n",
    "    \n",
    "    table = dict_keyword(dataset,in1,in2,in3,keyword);\n",
    "    tup_list = [];\n",
    "    for key in table: \n",
    "        key_val_tup = (table[key], key);\n",
    "        tup_list.append(key_val_tup);\n",
    "    \n",
    "    sorted_tup_list = sorted(tup_list,reverse = True);\n",
    "    \n",
    "    count = 0;\n",
    "    for row in sorted_tup_list:\n",
    "        name = row[1];\n",
    "        rct = row[0];\n",
    "        print(name,\": \",rct);\n",
    "        count += 1;\n",
    "        if count>=3:\n",
    "            break;\n",
    "\n",
    "in1 = -5; \n",
    "in2 = 1; \n",
    "in3 = 5; \n",
    "keyword = 'Navigation';\n",
    "dataset = apps_data_iOS_eng_free\n",
    "print(keyword)\n",
    "dataset_sorted(dataset,in1,in2,in3,keyword)\n",
    "        \n",
    "        "
   ]
  },
  {
   "cell_type": "code",
   "execution_count": 22,
   "metadata": {
    "collapsed": false
   },
   "outputs": [
    {
     "name": "stdout",
     "output_type": "stream",
     "text": [
      "Social Networking\n",
      "Facebook :  2974676.0\n",
      "Pinterest :  1061624.0\n",
      "Skype for iPhone :  373519.0\n"
     ]
    }
   ],
   "source": [
    "#dataset = apps_data_iOS_eng_free:\n",
    "#prime_genre = row[-5];\n",
    "#track_name = row[1];\n",
    "#rating_count_tot = row[5];\n",
    "\n",
    "in1 = -5; \n",
    "in2 = 1; \n",
    "in3 = 5; \n",
    "keyword = 'Social Networking';\n",
    "dataset = apps_data_iOS_eng_free\n",
    "print(keyword)\n",
    "dataset_sorted(dataset,in1,in2,in3,keyword)\n",
    "        "
   ]
  },
  {
   "cell_type": "code",
   "execution_count": 23,
   "metadata": {
    "collapsed": false
   },
   "outputs": [
    {
     "name": "stdout",
     "output_type": "stream",
     "text": [
      "Music\n",
      "Pandora - Music & Radio :  1126879.0\n",
      "Spotify Music :  878563.0\n",
      "Shazam - Discover music, artists, videos & lyrics :  402925.0\n"
     ]
    }
   ],
   "source": [
    "#dataset = apps_data_iOS_eng_free:\n",
    "#prime_genre = row[-5];\n",
    "#track_name = row[1];\n",
    "#rating_count_tot = row[5];\n",
    "\n",
    "in1 = -5; \n",
    "in2 = 1; \n",
    "in3 = 5; \n",
    "keyword = 'Music';\n",
    "dataset = apps_data_iOS_eng_free\n",
    "print(keyword)\n",
    "dataset_sorted(dataset,in1,in2,in3,keyword)"
   ]
  },
  {
   "cell_type": "code",
   "execution_count": 24,
   "metadata": {
    "collapsed": false
   },
   "outputs": [
    {
     "name": "stdout",
     "output_type": "stream",
     "text": [
      "Weather\n",
      "The Weather Channel: Forecast, Radar & Alerts :  495626.0\n",
      "The Weather Channel App for iPad – best local forecast, radar map, and storm tracking :  208648.0\n",
      "WeatherBug - Local Weather, Radar, Maps, Alerts :  188583.0\n"
     ]
    }
   ],
   "source": [
    "#dataset = apps_data_iOS_eng_free:\n",
    "#prime_genre = row[-5];\n",
    "#track_name = row[1];\n",
    "#rating_count_tot = row[5];\n",
    "\n",
    "in1 = -5; \n",
    "in2 = 1; \n",
    "in3 = 5; \n",
    "keyword = 'Weather';\n",
    "dataset = apps_data_iOS_eng_free\n",
    "print(keyword)\n",
    "dataset_sorted(dataset,in1,in2,in3,keyword)"
   ]
  },
  {
   "cell_type": "markdown",
   "metadata": {},
   "source": [
    "> The above information indicates that the development of a multi-purpose app that offers the services of a navigation app, a social networking app, a music streaming service, and a weather app will likely appeal to the most number of potential users for the iOS app store."
   ]
  },
  {
   "cell_type": "markdown",
   "metadata": {},
   "source": [
    "> The above information indicates that the development of an app that offers the services of a social networking/communication app will likely appeal to the most number of potential users for the android and iOS app stores."
   ]
  }
 ],
 "metadata": {
  "kernelspec": {
   "display_name": "Python 3",
   "language": "python",
   "name": "python3"
  },
  "language_info": {
   "codemirror_mode": {
    "name": "ipython",
    "version": 3
   },
   "file_extension": ".py",
   "mimetype": "text/x-python",
   "name": "python",
   "nbconvert_exporter": "python",
   "pygments_lexer": "ipython3",
   "version": "3.4.3"
  }
 },
 "nbformat": 4,
 "nbformat_minor": 2
}
