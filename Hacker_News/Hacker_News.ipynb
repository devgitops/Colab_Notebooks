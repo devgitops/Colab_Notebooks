{
 "cells": [
  {
   "cell_type": "markdown",
   "metadata": {},
   "source": [
    "# HackerNews Project:"
   ]
  },
  {
   "cell_type": "markdown",
   "metadata": {
    "collapsed": true
   },
   "source": [
    "**The goal of this project is to determine which factors affect posts in receiving more comments on average. Factors examined here are the category in which the posts belong and their time of posting.**"
   ]
  },
  {
   "cell_type": "code",
   "execution_count": 1,
   "metadata": {
    "collapsed": false
   },
   "outputs": [
    {
     "name": "stdout",
     "output_type": "stream",
     "text": [
      "[['id', 'title', 'url', 'num_points', 'num_comments', 'author', 'created_at'], ['12224879', 'Interactive Dynamic Video', 'http://www.interactivedynamicvideo.com/', '386', '52', 'ne0phyte', '8/4/2016 11:52'], ['10975351', 'How to Use Open Source and Shut the Fuck Up at the Same Time', 'http://hueniverse.com/2016/01/26/how-to-use-open-source-and-shut-the-fuck-up-at-the-same-time/', '39', '10', 'josep2', '1/26/2016 19:30'], ['11964716', \"Florida DJs May Face Felony for April Fools' Water Joke\", 'http://www.thewire.com/entertainment/2013/04/florida-djs-april-fools-water-joke/63798/', '2', '1', 'vezycash', '6/23/2016 22:20'], ['11919867', 'Technology ventures: From Idea to Enterprise', 'https://www.amazon.com/Technology-Ventures-Enterprise-Thomas-Byers/dp/0073523429', '3', '1', 'hswarna', '6/17/2016 0:01']]\n",
      "\n",
      " [['id', 'title', 'url', 'num_points', 'num_comments', 'author', 'created_at']]\n",
      "\n",
      "\n",
      "[['12224879', 'Interactive Dynamic Video', 'http://www.interactivedynamicvideo.com/', '386', '52', 'ne0phyte', '8/4/2016 11:52'], ['10975351', 'How to Use Open Source and Shut the Fuck Up at the Same Time', 'http://hueniverse.com/2016/01/26/how-to-use-open-source-and-shut-the-fuck-up-at-the-same-time/', '39', '10', 'josep2', '1/26/2016 19:30'], ['11964716', \"Florida DJs May Face Felony for April Fools' Water Joke\", 'http://www.thewire.com/entertainment/2013/04/florida-djs-april-fools-water-joke/63798/', '2', '1', 'vezycash', '6/23/2016 22:20'], ['11919867', 'Technology ventures: From Idea to Enterprise', 'https://www.amazon.com/Technology-Ventures-Enterprise-Thomas-Byers/dp/0073523429', '3', '1', 'hswarna', '6/17/2016 0:01'], ['10301696', 'Note by Note: The Making of Steinway L1037 (2007)', 'http://www.nytimes.com/2007/11/07/movies/07stein.html?_r=0', '8', '2', 'walterbell', '9/30/2015 4:12']]\n"
     ]
    }
   ],
   "source": [
    "opened_file = open('hacker_news.csv');\n",
    "from csv import reader;\n",
    "read_file = reader(opened_file);\n",
    "hn = list(read_file);\n",
    "opened_file.close;\n",
    "print(hn[:5]);\n",
    "\n",
    "headers = hn[:1];\n",
    "print('\\n', headers)\n",
    "hn = hn[1:];\n",
    "\n",
    "print('\\n');\n",
    "print(hn[:5])\n"
   ]
  },
  {
   "cell_type": "code",
   "execution_count": 2,
   "metadata": {
    "collapsed": false,
    "scrolled": true
   },
   "outputs": [
    {
     "name": "stdout",
     "output_type": "stream",
     "text": [
      "[['12296411', 'Ask HN: How to improve my personal website?', '', '2', '6', 'ahmedbaracat', '8/16/2016 9:55'], ['10610020', 'Ask HN: Am I the only one outraged by Twitter shutting down share counts?', '', '28', '29', 'tkfx', '11/22/2015 13:43'], ['11610310', 'Ask HN: Aby recent changes to CSS that broke mobile?', '', '1', '1', 'polskibus', '5/2/2016 10:14'], ['12210105', 'Ask HN: Looking for Employee #3 How do I do it?', '', '1', '3', 'sph130', '8/2/2016 14:20'], ['10394168', 'Ask HN: Someone offered to buy my browser extension from me. What now?', '', '28', '17', 'roykolak', '10/15/2015 16:38']] \n",
      "\n",
      "[['10627194', 'Show HN: Wio Link  ESP8266 Based Web of Things Hardware Development Platform', 'https://iot.seeed.cc', '26', '22', 'kfihihc', '11/25/2015 14:03'], ['10646440', 'Show HN: Something pointless I made', 'http://dn.ht/picklecat/', '747', '102', 'dhotson', '11/29/2015 22:46'], ['11590768', 'Show HN: Shanhu.io, a programming playground powered by e8vm', 'https://shanhu.io', '1', '1', 'h8liu', '4/28/2016 18:05'], ['12178806', 'Show HN: Webscope  Easy way for web developers to communicate with Clients', 'http://webscopeapp.com', '3', '3', 'fastbrick', '7/28/2016 7:11'], ['10872799', 'Show HN: GeoScreenshot  Easily test Geo-IP based web pages', 'https://www.geoscreenshot.com/', '1', '9', 'kpsychwave', '1/9/2016 20:45']] \n",
      "\n",
      "[['12224879', 'Interactive Dynamic Video', 'http://www.interactivedynamicvideo.com/', '386', '52', 'ne0phyte', '8/4/2016 11:52'], ['10975351', 'How to Use Open Source and Shut the Fuck Up at the Same Time', 'http://hueniverse.com/2016/01/26/how-to-use-open-source-and-shut-the-fuck-up-at-the-same-time/', '39', '10', 'josep2', '1/26/2016 19:30'], ['11964716', \"Florida DJs May Face Felony for April Fools' Water Joke\", 'http://www.thewire.com/entertainment/2013/04/florida-djs-april-fools-water-joke/63798/', '2', '1', 'vezycash', '6/23/2016 22:20'], ['11919867', 'Technology ventures: From Idea to Enterprise', 'https://www.amazon.com/Technology-Ventures-Enterprise-Thomas-Byers/dp/0073523429', '3', '1', 'hswarna', '6/17/2016 0:01'], ['10301696', 'Note by Note: The Making of Steinway L1037 (2007)', 'http://www.nytimes.com/2007/11/07/movies/07stein.html?_r=0', '8', '2', 'walterbell', '9/30/2015 4:12']] \n",
      "\n"
     ]
    }
   ],
   "source": [
    "ask_posts = []; show_posts = []; other_posts = [];\n",
    "\n",
    "for row in hn:\n",
    "    title = row[1];\n",
    "    if \"Ask HN\" in title:\n",
    "        ask_posts.append(row);\n",
    "    if \"Show HN\" in title:\n",
    "        show_posts.append(row);\n",
    "    else:\n",
    "        other_posts.append(row);\n",
    "\n",
    "print(ask_posts[:5],'\\n');\n",
    "print(show_posts[:5],'\\n');\n",
    "print(other_posts[:5],'\\n');\n",
    "    "
   ]
  },
  {
   "cell_type": "code",
   "execution_count": 3,
   "metadata": {
    "collapsed": false
   },
   "outputs": [
    {
     "name": "stdout",
     "output_type": "stream",
     "text": [
      "avg_ask_comments:\t14.04\n",
      "\n",
      "avg_show_comments:\t10.29\n"
     ]
    }
   ],
   "source": [
    "def total_avg(a_list,inx):\n",
    "    sub_list=[];\n",
    "    \n",
    "    for row in a_list:\n",
    "        item = float(row[inx]);\n",
    "        sub_list.append(item);\n",
    "    \n",
    "    total = sum(sub_list);\n",
    "    avg = sum(sub_list)/len(sub_list);\n",
    "    \n",
    "    return total,avg\n",
    "\n",
    "(total_ask_comments,avg_ask_comments) = total_avg(ask_posts,inx=4)\n",
    "print(\"avg_ask_comments:\\t%.2f\\n\" %avg_ask_comments)\n",
    "\n",
    "(total_show_comments,avg_show_comments) = total_avg(show_posts,inx=4)\n",
    "print(\"avg_show_comments:\\t%.2f\" %avg_show_comments)"
   ]
  },
  {
   "cell_type": "markdown",
   "metadata": {},
   "source": [
    "** When examining the categories for posts and their relationship to average number of comments received, it is shown that posts in the 'Ask HN' category receive more comments on average than posts in the 'Show HN' category. **"
   ]
  },
  {
   "cell_type": "code",
   "execution_count": 4,
   "metadata": {
    "collapsed": false,
    "scrolled": true
   },
   "outputs": [
    {
     "name": "stdout",
     "output_type": "stream",
     "text": [
      "{'16': 109, '13': 86, '14': 108, '10': 60, '06': 45, '07': 35, '00': 55, '05': 47, '21': 110, '23': 69, '22': 72, '12': 74, '01': 61, '19': 111, '08': 49, '11': 59, '20': 81, '17': 101, '18': 109, '04': 48, '02': 59, '09': 46, '03': 55, '15': 117} \n",
      "\n",
      "{'16': 1831, '13': 1282, '14': 1419, '10': 794, '06': 398, '07': 269, '00': 449, '05': 493, '21': 1749, '23': 544, '22': 481, '12': 691, '01': 716, '19': 1191, '08': 497, '11': 643, '20': 1724, '17': 1147, '18': 1432, '04': 340, '02': 1384, '09': 257, '03': 422, '15': 4478}\n"
     ]
    }
   ],
   "source": [
    "import datetime as dt;\n",
    "\n",
    "result_list = [];\n",
    "\n",
    "for row in ask_posts:\n",
    "    created_at = row[6];\n",
    "    num_comments = int(row[4]);\n",
    "    result_list.append([created_at,num_comments])\n",
    "\n",
    "counts_by_hour = {};\n",
    "comments_by_hour = {};\n",
    "\n",
    "for row in result_list:\n",
    "    date_str = row[0]\n",
    "    n_comm = row[1]\n",
    "    date_format = \"%m/%d/%Y %H:%M\"\n",
    "    date_dt = dt.datetime.strptime(date_str,date_format)\n",
    "    hr_str = date_dt.strftime('%H') \n",
    "    if hr_str not in counts_by_hour:\n",
    "        counts_by_hour[hr_str] = 1\n",
    "        comments_by_hour[hr_str] = n_comm\n",
    "    if hr_str in counts_by_hour:\n",
    "        counts_by_hour[hr_str] += 1\n",
    "        comments_by_hour[hr_str] += n_comm\n",
    "        \n",
    "print(counts_by_hour,'\\n')\n",
    "print(comments_by_hour)\n",
    "        "
   ]
  },
  {
   "cell_type": "code",
   "execution_count": 5,
   "metadata": {
    "collapsed": false
   },
   "outputs": [
    {
     "name": "stdout",
     "output_type": "stream",
     "text": [
      "[['16', 16.798165137614678], ['13', 14.906976744186046], ['14', 13.13888888888889], ['10', 13.233333333333333], ['06', 8.844444444444445], ['07', 7.685714285714286], ['00', 8.163636363636364], ['05', 10.48936170212766], ['21', 15.9], ['23', 7.884057971014493], ['22', 6.680555555555555], ['12', 9.337837837837839], ['01', 11.737704918032787], ['19', 10.72972972972973], ['08', 10.142857142857142], ['11', 10.898305084745763], ['20', 21.28395061728395], ['17', 11.356435643564357], ['18', 13.137614678899082], ['04', 7.083333333333333], ['02', 23.45762711864407], ['09', 5.586956521739131], ['03', 7.672727272727273], ['15', 38.27350427350427]]\n"
     ]
    }
   ],
   "source": [
    "avg_by_hour = [];\n",
    "for key in counts_by_hour:\n",
    "    avg = float(comments_by_hour[key])/counts_by_hour[key];\n",
    "    avg_by_hour.append([key,avg])\n",
    "\n",
    "print(avg_by_hour)\n",
    "    "
   ]
  },
  {
   "cell_type": "code",
   "execution_count": 6,
   "metadata": {
    "collapsed": false
   },
   "outputs": [
    {
     "name": "stdout",
     "output_type": "stream",
     "text": [
      "[[16.798165137614678, '16'], [14.906976744186046, '13'], [13.13888888888889, '14'], [13.233333333333333, '10'], [8.844444444444445, '06'], [7.685714285714286, '07'], [8.163636363636364, '00'], [10.48936170212766, '05'], [15.9, '21'], [7.884057971014493, '23'], [6.680555555555555, '22'], [9.337837837837839, '12'], [11.737704918032787, '01'], [10.72972972972973, '19'], [10.142857142857142, '08'], [10.898305084745763, '11'], [21.28395061728395, '20'], [11.356435643564357, '17'], [13.137614678899082, '18'], [7.083333333333333, '04'], [23.45762711864407, '02'], [5.586956521739131, '09'], [7.672727272727273, '03'], [38.27350427350427, '15']]\n",
      "\n",
      " [[38.27350427350427, '15'], [23.45762711864407, '02'], [21.28395061728395, '20'], [16.798165137614678, '16'], [15.9, '21'], [14.906976744186046, '13'], [13.233333333333333, '10'], [13.13888888888889, '14'], [13.137614678899082, '18'], [11.737704918032787, '01'], [11.356435643564357, '17'], [10.898305084745763, '11'], [10.72972972972973, '19'], [10.48936170212766, '05'], [10.142857142857142, '08'], [9.337837837837839, '12'], [8.844444444444445, '06'], [8.163636363636364, '00'], [7.884057971014493, '23'], [7.685714285714286, '07'], [7.672727272727273, '03'], [7.083333333333333, '04'], [6.680555555555555, '22'], [5.586956521739131, '09']]\n",
      "\n",
      " Top 5 Hours for Ask Posts Comments (EST)\n",
      "15:00: 38.27 average comments per post.\n",
      "02:00: 23.46 average comments per post.\n",
      "20:00: 21.28 average comments per post.\n",
      "16:00: 16.80 average comments per post.\n",
      "21:00: 15.90 average comments per post.\n"
     ]
    }
   ],
   "source": [
    "swap_avg_by_hour = [];\n",
    "for row in avg_by_hour:\n",
    "    swap_avg_by_hour.append([row[1],row[0]])\n",
    "print(swap_avg_by_hour)\n",
    "\n",
    "sorted_swap = sorted(swap_avg_by_hour, reverse = True)\n",
    "\n",
    "print('\\n',sorted_swap)\n",
    "\n",
    "print('\\n',\"Top 5 Hours for Ask Posts Comments (EST)\")\n",
    "\n",
    "for row in sorted_swap[:5]:\n",
    "    hr_dt = dt.datetime.strptime(row[1],\"%H\");\n",
    "    hr_str = hr_dt.strftime('%H:%M')\n",
    "    print(\"%s: %.2f average comments per post.\" %(hr_str,row[0]))"
   ]
  },
  {
   "cell_type": "code",
   "execution_count": 7,
   "metadata": {
    "collapsed": false
   },
   "outputs": [
    {
     "name": "stdout",
     "output_type": "stream",
     "text": [
      "\n",
      " Top 5 Hours for Ask Posts Comments (PST)\n",
      "12:00: 38.27 average comments per post.\n",
      "23:00: 23.46 average comments per post.\n",
      "17:00: 21.28 average comments per post.\n",
      "13:00: 16.80 average comments per post.\n",
      "18:00: 15.90 average comments per post.\n"
     ]
    }
   ],
   "source": [
    "# Let's us assume PST for home:\n",
    "print('\\n',\"Top 5 Hours for Ask Posts Comments (PST)\")\n",
    "for row in sorted_swap[:5]:\n",
    "    hr_dt = dt.datetime.strptime(row[1],\"%H\")\n",
    "    del_dt = dt.timedelta(hours = 3)\n",
    "    hr_new_dt = hr_dt - del_dt\n",
    "    hr_new_str = hr_new_dt.strftime(\"%H:%M\")\n",
    "    print(\"%s: %.2f average comments per post.\" %(hr_new_str,row[0]))\n",
    "    "
   ]
  },
  {
   "cell_type": "markdown",
   "metadata": {},
   "source": [
    "** From the above information the best times for creating posts which have a higher probability of receiving comments are shown to be between the hours of 12 pm and 11pm **"
   ]
  },
  {
   "cell_type": "markdown",
   "metadata": {},
   "source": [
    "# Analysis for the 3 categories of posts (cont. from cell 3)"
   ]
  },
  {
   "cell_type": "code",
   "execution_count": 8,
   "metadata": {
    "collapsed": false
   },
   "outputs": [
    {
     "name": "stdout",
     "output_type": "stream",
     "text": [
      "avg_ask_comments:\t14.04\n",
      "\n",
      "avg_show_comments:\t10.29\n",
      "\n",
      "avg_other_comments:\t25.70\n",
      "\n"
     ]
    }
   ],
   "source": [
    "(total_ask_comments,avg_ask_comments) = total_avg(ask_posts,inx=4)\n",
    "print(\"avg_ask_comments:\\t%.2f\\n\" %avg_ask_comments)\n",
    "\n",
    "(total_show_comments,avg_show_comments) = total_avg(show_posts,inx=4)\n",
    "print(\"avg_show_comments:\\t%.2f\\n\" %avg_show_comments)\n",
    "\n",
    "(total_other_comments,avg_other_comments) = total_avg(other_posts,inx=4)\n",
    "print(\"avg_other_comments:\\t%.2f\\n\" %avg_other_comments)\n"
   ]
  },
  {
   "cell_type": "code",
   "execution_count": 9,
   "metadata": {
    "collapsed": false
   },
   "outputs": [
    {
     "name": "stdout",
     "output_type": "stream",
     "text": [
      "avg_ask_points:\t\t15.08\n",
      "\n",
      "avg_show_points:\t27.44\n",
      "\n",
      "avg_other_points:\t51.71\n",
      "\n"
     ]
    }
   ],
   "source": [
    "(total_ask_points,avg_ask_points) = total_avg(ask_posts,inx=3)\n",
    "print(\"avg_ask_points:\\t\\t%.2f\\n\" %avg_ask_points)\n",
    "\n",
    "(total_show_points,avg_show_points) = total_avg(show_posts,inx=3)\n",
    "print(\"avg_show_points:\\t%.2f\\n\" %avg_show_points)\n",
    "\n",
    "(total_other_points,avg_other_points) = total_avg(other_posts,inx=3)\n",
    "print(\"avg_other_points:\\t%.2f\\n\" %avg_other_points)\n",
    "\n"
   ]
  },
  {
   "cell_type": "code",
   "execution_count": 10,
   "metadata": {
    "collapsed": false
   },
   "outputs": [
    {
     "name": "stdout",
     "output_type": "stream",
     "text": [
      "ask_time_comments_list[:5]:\n",
      " [['8/16/2016 9:55', '6'], ['11/22/2015 13:43', '29'], ['5/2/2016 10:14', '1'], ['8/2/2016 14:20', '3'], ['10/15/2015 16:38', '17']]\n",
      "\n",
      "show_time_comments_list[:5]:\n",
      " [['11/25/2015 14:03', '22'], ['11/29/2015 22:46', '102'], ['4/28/2016 18:05', '1'], ['7/28/2016 7:11', '3'], ['1/9/2016 20:45', '9']]\n",
      "\n",
      "other_time_comments_list[:5]:\n",
      " [['8/4/2016 11:52', '52'], ['1/26/2016 19:30', '10'], ['6/23/2016 22:20', '1'], ['6/17/2016 0:01', '1'], ['9/30/2015 4:12', '2']]\n"
     ]
    }
   ],
   "source": [
    "def create_sublist(a_list,inx1,inx2):\n",
    "    new_list = [];\n",
    "\n",
    "    for row in a_list:\n",
    "        row_i0 = row[inx1]\n",
    "        row_i1 = row[inx2]\n",
    "        new_list.append([row_i0,row_i1])\n",
    "    \n",
    "    return new_list\n",
    "\n",
    "ask_time_comments_list = create_sublist(ask_posts,inx1=6,inx2=4)\n",
    "print('ask_time_comments_list[:5]:\\n',ask_time_comments_list[:5])\n",
    "\n",
    "show_time_comments_list = create_sublist(show_posts,inx1=6,inx2=4)\n",
    "print('\\nshow_time_comments_list[:5]:\\n',show_time_comments_list[:5])\n",
    "\n",
    "other_time_comments_list = create_sublist(other_posts,inx1=6,inx2=4)\n",
    "print('\\nother_time_comments_list[:5]:\\n',other_time_comments_list[:5])\n",
    "\n",
    "        "
   ]
  },
  {
   "cell_type": "code",
   "execution_count": 11,
   "metadata": {
    "collapsed": false
   },
   "outputs": [
    {
     "name": "stdout",
     "output_type": "stream",
     "text": [
      "ask_time_pts_list[:5]:\n",
      " [['8/16/2016 9:55', '2'], ['11/22/2015 13:43', '28'], ['5/2/2016 10:14', '1'], ['8/2/2016 14:20', '1'], ['10/15/2015 16:38', '28']]\n",
      "\n",
      "show_time_pts_list[:5]:\n",
      " [['11/25/2015 14:03', '26'], ['11/29/2015 22:46', '747'], ['4/28/2016 18:05', '1'], ['7/28/2016 7:11', '3'], ['1/9/2016 20:45', '1']]\n",
      "\n",
      "other_time_pts_list[:5]:\n",
      " [['8/4/2016 11:52', '386'], ['1/26/2016 19:30', '39'], ['6/23/2016 22:20', '2'], ['6/17/2016 0:01', '3'], ['9/30/2015 4:12', '8']]\n"
     ]
    }
   ],
   "source": [
    "ask_time_pts_list = create_sublist(ask_posts,inx1=6,inx2=3)\n",
    "print('ask_time_pts_list[:5]:\\n',ask_time_pts_list[:5])\n",
    "\n",
    "show_time_pts_list = create_sublist(show_posts,inx1=6,inx2=3)\n",
    "print('\\nshow_time_pts_list[:5]:\\n',show_time_pts_list[:5])\n",
    "\n",
    "other_time_pts_list = create_sublist(other_posts,inx1=6,inx2=3)\n",
    "print('\\nother_time_pts_list[:5]:\\n',other_time_pts_list[:5])"
   ]
  },
  {
   "cell_type": "code",
   "execution_count": 12,
   "metadata": {
    "collapsed": false,
    "scrolled": true
   },
   "outputs": [],
   "source": [
    "def freq_dicts(a_list):\n",
    "    freq_htime = {};\n",
    "    freqparam_htime = {};\n",
    "    freqparam_htime_avg = {};\n",
    "\n",
    "    for row in a_list:\n",
    "        time_str = row[0];\n",
    "        time_format = \"%m/%d/%Y %H:%M\";\n",
    "        time_dt = dt.datetime.strptime(time_str,time_format)\n",
    "        hr_str = time_dt.strftime(\"%H\")\n",
    "        param = int(row[1])\n",
    "        \n",
    "        if hr_str not in freq_htime:\n",
    "            freq_htime[hr_str] = 1\n",
    "            freqparam_htime[hr_str] = param\n",
    "            \n",
    "        if hr_str in freq_htime:\n",
    "            freq_htime[hr_str] += 1\n",
    "            freqparam_htime[hr_str] += param\n",
    "    \n",
    "    for key in freq_htime:\n",
    "        freqparam_htime_avg[key] = freqparam_htime[key]/freq_htime[key]\n",
    "        \n",
    "            \n",
    "    return freq_htime,freqparam_htime,freqparam_htime_avg\n",
    "        \n"
   ]
  },
  {
   "cell_type": "code",
   "execution_count": 13,
   "metadata": {
    "collapsed": false
   },
   "outputs": [
    {
     "name": "stdout",
     "output_type": "stream",
     "text": [
      "\n",
      "ask_counts_by_hr:\n",
      " {'16': 109, '13': 86, '14': 108, '10': 60, '06': 45, '07': 35, '00': 55, '05': 47, '21': 110, '23': 69, '22': 72, '12': 74, '01': 61, '19': 111, '08': 49, '11': 59, '20': 81, '17': 101, '18': 109, '04': 48, '02': 59, '09': 46, '03': 55, '15': 117}\n",
      "\n",
      "ask_comments_by_hr:\n",
      " {'16': 1831, '13': 1282, '14': 1419, '10': 794, '06': 398, '07': 269, '00': 449, '05': 493, '21': 1749, '23': 544, '22': 481, '12': 691, '01': 716, '19': 1191, '08': 497, '11': 643, '20': 1724, '17': 1147, '18': 1432, '04': 340, '02': 1384, '09': 257, '03': 422, '15': 4478}\n",
      "\n",
      "ask_comments_avg_by_hr:\n",
      " {'16': 16.798165137614678, '13': 14.906976744186046, '14': 13.13888888888889, '10': 13.233333333333333, '07': 7.685714285714286, '00': 8.163636363636364, '21': 15.9, '15': 38.27350427350427, '23': 7.884057971014493, '22': 6.680555555555555, '12': 9.337837837837839, '01': 11.737704918032787, '17': 11.356435643564357, '08': 10.142857142857142, '11': 10.898305084745763, '20': 21.28395061728395, '06': 8.844444444444445, '18': 13.137614678899082, '19': 10.72972972972973, '05': 10.48936170212766, '02': 23.45762711864407, '09': 5.586956521739131, '03': 7.672727272727273, '04': 7.083333333333333}\n"
     ]
    }
   ],
   "source": [
    "[ask_counts_by_hr,ask_comments_by_hr,ask_comments_avg_by_hr] =  freq_dicts(ask_time_comments_list)\n",
    "\n",
    "print('\\nask_counts_by_hr:\\n',ask_counts_by_hr)\n",
    "print('\\nask_comments_by_hr:\\n',ask_comments_by_hr)\n",
    "print('\\nask_comments_avg_by_hr:\\n',ask_comments_avg_by_hr)"
   ]
  },
  {
   "cell_type": "code",
   "execution_count": 14,
   "metadata": {
    "collapsed": false
   },
   "outputs": [
    {
     "name": "stdout",
     "output_type": "stream",
     "text": [
      "\n",
      "show_counts_by_hr:\n",
      " {'18': 62, '16': 94, '14': 87, '13': 102, '07': 27, '00': 32, '21': 49, '15': 78, '23': 37, '22': 47, '12': 63, '01': 29, '19': 56, '08': 36, '11': 46, '20': 61, '17': 94, '06': 18, '10': 38, '04': 27, '02': 31, '09': 31, '03': 28, '05': 20}\n",
      "\n",
      "show_comments_by_hr:\n",
      " {'18': 963, '16': 1085, '14': 1178, '13': 962, '07': 302, '00': 488, '21': 277, '15': 635, '23': 448, '22': 672, '12': 738, '01': 251, '19': 540, '08': 172, '11': 494, '20': 621, '17': 913, '06': 145, '10': 299, '04': 249, '02': 128, '09': 292, '03': 290, '05': 61}\n",
      "\n",
      "show_comments_avg_by_hr:\n",
      " {'18': 15.53225806451613, '16': 11.542553191489361, '14': 13.540229885057471, '13': 9.431372549019608, '07': 11.185185185185185, '00': 15.25, '05': 3.05, '21': 5.653061224489796, '23': 12.108108108108109, '22': 14.297872340425531, '12': 11.714285714285714, '01': 8.655172413793103, '17': 9.712765957446809, '08': 4.777777777777778, '11': 10.73913043478261, '20': 10.180327868852459, '06': 8.055555555555555, '10': 7.868421052631579, '19': 9.642857142857142, '15': 8.14102564102564, '02': 4.129032258064516, '09': 9.419354838709678, '03': 10.357142857142858, '04': 9.222222222222221}\n"
     ]
    }
   ],
   "source": [
    "[show_counts_by_hr,show_comments_by_hr,show_comments_avg_by_hr] =  freq_dicts(show_time_comments_list)\n",
    "\n",
    "print('\\nshow_counts_by_hr:\\n',show_counts_by_hr)\n",
    "print('\\nshow_comments_by_hr:\\n',show_comments_by_hr)\n",
    "print('\\nshow_comments_avg_by_hr:\\n',show_comments_avg_by_hr)"
   ]
  },
  {
   "cell_type": "code",
   "execution_count": 15,
   "metadata": {
    "collapsed": false
   },
   "outputs": [
    {
     "name": "stdout",
     "output_type": "stream",
     "text": [
      "\n",
      "other_counts_by_hr:\n",
      " {'16': 1210, '18': 1194, '14': 1066, '10': 650, '13': 1002, '07': 483, '00': 667, '05': 435, '21': 983, '23': 743, '22': 830, '12': 862, '01': 561, '17': 1270, '08': 544, '11': 718, '20': 992, '06': 452, '19': 1091, '04': 502, '02': 500, '09': 580, '03': 462, '15': 1158}\n",
      "\n",
      "other_comments_by_hr:\n",
      " {'16': 29780, '18': 30626, '14': 32391, '10': 16538, '13': 29630, '07': 12345, '00': 16992, '05': 10235, '21': 22488, '23': 17136, '22': 18115, '12': 24619, '01': 12221, '17': 33979, '08': 13898, '11': 20224, '20': 22815, '06': 9113, '19': 27365, '04': 11292, '02': 13848, '09': 15005, '03': 11451, '15': 35180}\n",
      "\n",
      "other_comments_avg_by_hr:\n",
      " {'16': 24.611570247933884, '18': 25.649916247906198, '14': 30.385553470919323, '13': 29.570858283433132, '07': 25.559006211180126, '00': 25.475262368815592, '21': 22.876907426246184, '15': 30.379965457685664, '23': 23.063257065948857, '22': 21.825301204819276, '12': 28.56032482598608, '01': 21.784313725490197, '19': 25.08249312557287, '08': 25.547794117647058, '11': 28.167130919220057, '20': 22.998991935483872, '17': 26.75511811023622, '06': 20.161504424778762, '10': 25.443076923076923, '05': 23.528735632183906, '02': 27.696, '09': 25.870689655172413, '03': 24.785714285714285, '04': 22.49402390438247}\n"
     ]
    }
   ],
   "source": [
    "[other_counts_by_hr,other_comments_by_hr,other_comments_avg_by_hr] =  freq_dicts(other_time_comments_list)\n",
    "\n",
    "print('\\nother_counts_by_hr:\\n',other_counts_by_hr)\n",
    "print('\\nother_comments_by_hr:\\n',other_comments_by_hr)\n",
    "print('\\nother_comments_avg_by_hr:\\n',other_comments_avg_by_hr)"
   ]
  },
  {
   "cell_type": "code",
   "execution_count": 16,
   "metadata": {
    "collapsed": false
   },
   "outputs": [
    {
     "name": "stdout",
     "output_type": "stream",
     "text": [
      "\n",
      "ask_counts_by_hr:\n",
      " {'16': 109, '13': 86, '14': 108, '10': 60, '06': 45, '07': 35, '00': 55, '05': 47, '21': 110, '23': 69, '22': 72, '12': 74, '01': 61, '19': 111, '08': 49, '11': 59, '20': 81, '17': 101, '18': 109, '04': 48, '02': 59, '09': 46, '03': 55, '15': 117}\n",
      "\n",
      "ask_pts_by_hr:\n",
      " {'16': 2550, '13': 2090, '14': 1283, '10': 1103, '06': 603, '07': 363, '00': 450, '05': 564, '21': 1729, '23': 583, '22': 514, '12': 786, '01': 732, '19': 1517, '08': 521, '11': 827, '20': 1154, '17': 1943, '18': 1742, '04': 392, '02': 797, '09': 331, '03': 377, '15': 3480}\n",
      "\n",
      "ask_pts_avg_by_hr:\n",
      " {'16': 23.394495412844037, '13': 24.302325581395348, '14': 11.87962962962963, '10': 18.383333333333333, '07': 10.371428571428572, '00': 8.181818181818182, '21': 15.718181818181819, '15': 29.743589743589745, '23': 8.44927536231884, '22': 7.138888888888889, '12': 10.621621621621621, '01': 12.0, '17': 19.237623762376238, '08': 10.63265306122449, '11': 14.016949152542374, '20': 14.246913580246913, '06': 13.4, '18': 15.98165137614679, '19': 13.666666666666666, '05': 12.0, '02': 13.508474576271187, '09': 7.195652173913044, '03': 6.8545454545454545, '04': 8.166666666666666}\n"
     ]
    }
   ],
   "source": [
    "[ask_counts_by_hr,ask_pts_by_hr,ask_pts_avg_by_hr] =  freq_dicts(ask_time_pts_list)\n",
    "\n",
    "print('\\nask_counts_by_hr:\\n',ask_counts_by_hr)\n",
    "print('\\nask_pts_by_hr:\\n',ask_pts_by_hr)\n",
    "print('\\nask_pts_avg_by_hr:\\n',ask_pts_avg_by_hr)"
   ]
  },
  {
   "cell_type": "code",
   "execution_count": 17,
   "metadata": {
    "collapsed": false
   },
   "outputs": [
    {
     "name": "stdout",
     "output_type": "stream",
     "text": [
      "\n",
      "show_counts_by_hr:\n",
      " {'18': 62, '16': 94, '14': 87, '13': 102, '07': 27, '00': 32, '21': 49, '15': 78, '23': 37, '22': 47, '12': 63, '01': 29, '19': 56, '08': 36, '11': 46, '20': 61, '17': 94, '06': 18, '10': 38, '04': 27, '02': 31, '09': 31, '03': 28, '05': 20}\n",
      "\n",
      "show_pts_by_hr:\n",
      " {'18': 2216, '16': 2642, '14': 2213, '13': 2457, '07': 497, '00': 1182, '21': 876, '15': 2267, '23': 1535, '22': 2603, '12': 2564, '01': 709, '19': 1708, '08': 530, '11': 1494, '20': 1820, '17': 2526, '06': 381, '10': 684, '04': 399, '02': 344, '09': 562, '03': 687, '05': 107}\n",
      "\n",
      "show_pts_avg_by_hr:\n",
      " {'18': 35.74193548387097, '16': 28.106382978723403, '14': 25.436781609195403, '13': 24.08823529411765, '07': 18.40740740740741, '00': 36.9375, '05': 5.35, '21': 17.877551020408163, '23': 41.486486486486484, '22': 55.38297872340426, '12': 40.698412698412696, '01': 24.448275862068964, '17': 26.872340425531913, '08': 14.722222222222221, '11': 32.47826086956522, '20': 29.83606557377049, '06': 21.166666666666668, '10': 18.0, '19': 30.5, '15': 29.064102564102566, '02': 11.096774193548388, '09': 18.129032258064516, '03': 24.535714285714285, '04': 14.777777777777779}\n"
     ]
    }
   ],
   "source": [
    "[show_counts_by_hr,show_pts_by_hr,show_pts_avg_by_hr] =  freq_dicts(show_time_pts_list)\n",
    "\n",
    "print('\\nshow_counts_by_hr:\\n',show_counts_by_hr)\n",
    "print('\\nshow_pts_by_hr:\\n',show_pts_by_hr)\n",
    "print('\\nshow_pts_avg_by_hr:\\n',show_pts_avg_by_hr)"
   ]
  },
  {
   "cell_type": "code",
   "execution_count": 18,
   "metadata": {
    "collapsed": false
   },
   "outputs": [
    {
     "name": "stdout",
     "output_type": "stream",
     "text": [
      "\n",
      "other_counts_by_hr:\n",
      " {'16': 1210, '18': 1194, '14': 1066, '10': 650, '13': 1002, '07': 483, '00': 667, '05': 435, '21': 983, '23': 743, '22': 830, '12': 862, '01': 561, '17': 1270, '08': 544, '11': 718, '20': 992, '06': 452, '19': 1091, '04': 502, '02': 500, '09': 580, '03': 462, '15': 1158}\n",
      "\n",
      "other_pts_by_hr:\n",
      " {'16': 62211, '18': 60203, '14': 60474, '10': 36906, '13': 59470, '07': 25894, '00': 36172, '05': 19948, '21': 44928, '23': 35651, '22': 38592, '12': 46062, '01': 26006, '17': 69833, '08': 27377, '11': 39194, '20': 42437, '06': 19456, '19': 60363, '04': 22946, '02': 26875, '09': 29184, '03': 23711, '15': 66449}\n",
      "\n",
      "other_pts_avg_by_hr:\n",
      " {'16': 51.41404958677686, '18': 50.4212730318258, '14': 56.729831144465294, '13': 59.35129740518962, '07': 53.61076604554865, '00': 54.23088455772114, '21': 45.70498474059003, '15': 57.38255613126079, '23': 47.98250336473755, '22': 46.496385542168674, '12': 53.43619489559165, '01': 46.35650623885918, '19': 55.32813932172319, '08': 50.325367647058826, '11': 54.58774373259053, '20': 42.779233870967744, '17': 54.98661417322835, '06': 43.04424778761062, '10': 56.778461538461535, '05': 45.85747126436782, '02': 53.75, '09': 50.317241379310346, '03': 51.32251082251082, '04': 45.70916334661354}\n"
     ]
    }
   ],
   "source": [
    "[other_counts_by_hr,other_pts_by_hr,other_pts_avg_by_hr] =  freq_dicts(other_time_pts_list)\n",
    "\n",
    "print('\\nother_counts_by_hr:\\n',other_counts_by_hr)\n",
    "print('\\nother_pts_by_hr:\\n',other_pts_by_hr)\n",
    "print('\\nother_pts_avg_by_hr:\\n',other_pts_avg_by_hr)"
   ]
  },
  {
   "cell_type": "code",
   "execution_count": 19,
   "metadata": {
    "collapsed": false
   },
   "outputs": [
    {
     "name": "stdout",
     "output_type": "stream",
     "text": [
      "ask_comments_avg_by_hr_swap: \n",
      " [[16.798165137614678, '16'], [14.906976744186046, '13'], [13.13888888888889, '14'], [13.233333333333333, '10'], [7.685714285714286, '07'], [8.163636363636364, '00'], [15.9, '21'], [38.27350427350427, '15'], [7.884057971014493, '23'], [6.680555555555555, '22'], [9.337837837837839, '12'], [11.737704918032787, '01'], [11.356435643564357, '17'], [10.142857142857142, '08'], [10.898305084745763, '11'], [21.28395061728395, '20'], [8.844444444444445, '06'], [13.137614678899082, '18'], [10.72972972972973, '19'], [10.48936170212766, '05'], [23.45762711864407, '02'], [5.586956521739131, '09'], [7.672727272727273, '03'], [7.083333333333333, '04']]\n",
      "\n",
      "show_comments_avg_by_hr_swap: \n",
      " [[15.53225806451613, '18'], [11.542553191489361, '16'], [13.540229885057471, '14'], [9.431372549019608, '13'], [11.185185185185185, '07'], [15.25, '00'], [3.05, '05'], [5.653061224489796, '21'], [12.108108108108109, '23'], [14.297872340425531, '22'], [11.714285714285714, '12'], [8.655172413793103, '01'], [9.712765957446809, '17'], [4.777777777777778, '08'], [10.73913043478261, '11'], [10.180327868852459, '20'], [8.055555555555555, '06'], [7.868421052631579, '10'], [9.642857142857142, '19'], [8.14102564102564, '15'], [4.129032258064516, '02'], [9.419354838709678, '09'], [10.357142857142858, '03'], [9.222222222222221, '04']]\n",
      "\n",
      "other_comments_avg_by_hr_swap: \n",
      " [[24.611570247933884, '16'], [25.649916247906198, '18'], [30.385553470919323, '14'], [29.570858283433132, '13'], [25.559006211180126, '07'], [25.475262368815592, '00'], [22.876907426246184, '21'], [30.379965457685664, '15'], [23.063257065948857, '23'], [21.825301204819276, '22'], [28.56032482598608, '12'], [21.784313725490197, '01'], [25.08249312557287, '19'], [25.547794117647058, '08'], [28.167130919220057, '11'], [22.998991935483872, '20'], [26.75511811023622, '17'], [20.161504424778762, '06'], [25.443076923076923, '10'], [23.528735632183906, '05'], [27.696, '02'], [25.870689655172413, '09'], [24.785714285714285, '03'], [22.49402390438247, '04']]\n"
     ]
    }
   ],
   "source": [
    "def dict_to_swaplist(a_dict):\n",
    "    swap_list = [];\n",
    "    for key in a_dict:\n",
    "        swap_list.append([a_dict[key],key])\n",
    "    return swap_list\n",
    "\n",
    "\n",
    "ask_comments_avg_by_hr_swap = dict_to_swaplist(ask_comments_avg_by_hr)\n",
    "print(\"ask_comments_avg_by_hr_swap: \\n\",ask_comments_avg_by_hr_swap)\n",
    "\n",
    "show_comments_avg_by_hr_swap = dict_to_swaplist(show_comments_avg_by_hr)\n",
    "print(\"\\nshow_comments_avg_by_hr_swap: \\n\",show_comments_avg_by_hr_swap)\n",
    "\n",
    "other_comments_avg_by_hr_swap = dict_to_swaplist(other_comments_avg_by_hr)\n",
    "print(\"\\nother_comments_avg_by_hr_swap: \\n\",other_comments_avg_by_hr_swap)\n",
    "\n",
    "    "
   ]
  },
  {
   "cell_type": "code",
   "execution_count": 20,
   "metadata": {
    "collapsed": false
   },
   "outputs": [
    {
     "name": "stdout",
     "output_type": "stream",
     "text": [
      "ask_pts_avg_by_hr_swap: \n",
      " [[23.394495412844037, '16'], [24.302325581395348, '13'], [11.87962962962963, '14'], [18.383333333333333, '10'], [10.371428571428572, '07'], [8.181818181818182, '00'], [15.718181818181819, '21'], [29.743589743589745, '15'], [8.44927536231884, '23'], [7.138888888888889, '22'], [10.621621621621621, '12'], [12.0, '01'], [19.237623762376238, '17'], [10.63265306122449, '08'], [14.016949152542374, '11'], [14.246913580246913, '20'], [13.4, '06'], [15.98165137614679, '18'], [13.666666666666666, '19'], [12.0, '05'], [13.508474576271187, '02'], [7.195652173913044, '09'], [6.8545454545454545, '03'], [8.166666666666666, '04']]\n",
      "\n",
      "show_pts_avg_by_hr_swap: \n",
      " [[35.74193548387097, '18'], [28.106382978723403, '16'], [25.436781609195403, '14'], [24.08823529411765, '13'], [18.40740740740741, '07'], [36.9375, '00'], [5.35, '05'], [17.877551020408163, '21'], [41.486486486486484, '23'], [55.38297872340426, '22'], [40.698412698412696, '12'], [24.448275862068964, '01'], [26.872340425531913, '17'], [14.722222222222221, '08'], [32.47826086956522, '11'], [29.83606557377049, '20'], [21.166666666666668, '06'], [18.0, '10'], [30.5, '19'], [29.064102564102566, '15'], [11.096774193548388, '02'], [18.129032258064516, '09'], [24.535714285714285, '03'], [14.777777777777779, '04']]\n",
      "\n",
      "other_pts_avg_by_hr_swap: \n",
      " [[51.41404958677686, '16'], [50.4212730318258, '18'], [56.729831144465294, '14'], [59.35129740518962, '13'], [53.61076604554865, '07'], [54.23088455772114, '00'], [45.70498474059003, '21'], [57.38255613126079, '15'], [47.98250336473755, '23'], [46.496385542168674, '22'], [53.43619489559165, '12'], [46.35650623885918, '01'], [55.32813932172319, '19'], [50.325367647058826, '08'], [54.58774373259053, '11'], [42.779233870967744, '20'], [54.98661417322835, '17'], [43.04424778761062, '06'], [56.778461538461535, '10'], [45.85747126436782, '05'], [53.75, '02'], [50.317241379310346, '09'], [51.32251082251082, '03'], [45.70916334661354, '04']]\n"
     ]
    }
   ],
   "source": [
    "ask_pts_avg_by_hr_swap = dict_to_swaplist(ask_pts_avg_by_hr)\n",
    "print(\"ask_pts_avg_by_hr_swap: \\n\",ask_pts_avg_by_hr_swap)\n",
    "\n",
    "show_pts_avg_by_hr_swap = dict_to_swaplist(show_pts_avg_by_hr)\n",
    "print(\"\\nshow_pts_avg_by_hr_swap: \\n\",show_pts_avg_by_hr_swap)\n",
    "\n",
    "other_pts_avg_by_hr_swap = dict_to_swaplist(other_pts_avg_by_hr)\n",
    "print(\"\\nother_pts_avg_by_hr_swap: \\n\",other_pts_avg_by_hr_swap)\n"
   ]
  },
  {
   "cell_type": "code",
   "execution_count": 21,
   "metadata": {
    "collapsed": false
   },
   "outputs": [
    {
     "name": "stdout",
     "output_type": "stream",
     "text": [
      "ask_comments_avg_by_hr_swap_sorted: \n",
      " [[38.27350427350427, '15'], [23.45762711864407, '02'], [21.28395061728395, '20'], [16.798165137614678, '16'], [15.9, '21'], [14.906976744186046, '13'], [13.233333333333333, '10'], [13.13888888888889, '14'], [13.137614678899082, '18'], [11.737704918032787, '01'], [11.356435643564357, '17'], [10.898305084745763, '11'], [10.72972972972973, '19'], [10.48936170212766, '05'], [10.142857142857142, '08'], [9.337837837837839, '12'], [8.844444444444445, '06'], [8.163636363636364, '00'], [7.884057971014493, '23'], [7.685714285714286, '07'], [7.672727272727273, '03'], [7.083333333333333, '04'], [6.680555555555555, '22'], [5.586956521739131, '09']]\n",
      "\n",
      "show_comments_avg_by_hr_swap_sorted: \n",
      " [[15.53225806451613, '18'], [15.25, '00'], [14.297872340425531, '22'], [13.540229885057471, '14'], [12.108108108108109, '23'], [11.714285714285714, '12'], [11.542553191489361, '16'], [11.185185185185185, '07'], [10.73913043478261, '11'], [10.357142857142858, '03'], [10.180327868852459, '20'], [9.712765957446809, '17'], [9.642857142857142, '19'], [9.431372549019608, '13'], [9.419354838709678, '09'], [9.222222222222221, '04'], [8.655172413793103, '01'], [8.14102564102564, '15'], [8.055555555555555, '06'], [7.868421052631579, '10'], [5.653061224489796, '21'], [4.777777777777778, '08'], [4.129032258064516, '02'], [3.05, '05']]\n",
      "\n",
      "other_comments_avg_by_hr_swap_sorted: \n",
      " [[30.385553470919323, '14'], [30.379965457685664, '15'], [29.570858283433132, '13'], [28.56032482598608, '12'], [28.167130919220057, '11'], [27.696, '02'], [26.75511811023622, '17'], [25.870689655172413, '09'], [25.649916247906198, '18'], [25.559006211180126, '07'], [25.547794117647058, '08'], [25.475262368815592, '00'], [25.443076923076923, '10'], [25.08249312557287, '19'], [24.785714285714285, '03'], [24.611570247933884, '16'], [23.528735632183906, '05'], [23.063257065948857, '23'], [22.998991935483872, '20'], [22.876907426246184, '21'], [22.49402390438247, '04'], [21.825301204819276, '22'], [21.784313725490197, '01'], [20.161504424778762, '06']]\n"
     ]
    }
   ],
   "source": [
    "def sorted_lst(a_list):\n",
    "    sorted_list = sorted(a_list, reverse = True)\n",
    "    \n",
    "    return sorted_list\n",
    "\n",
    "ask_comments_avg_by_hr_swap_sorted = sorted_lst(ask_comments_avg_by_hr_swap)\n",
    "print(\"ask_comments_avg_by_hr_swap_sorted: \\n\",ask_comments_avg_by_hr_swap_sorted)\n",
    "    \n",
    "show_comments_avg_by_hr_swap_sorted = sorted_lst(show_comments_avg_by_hr_swap)\n",
    "print(\"\\nshow_comments_avg_by_hr_swap_sorted: \\n\",show_comments_avg_by_hr_swap_sorted)\n",
    "    \n",
    "other_comments_avg_by_hr_swap_sorted = sorted_lst(other_comments_avg_by_hr_swap)\n",
    "print(\"\\nother_comments_avg_by_hr_swap_sorted: \\n\",other_comments_avg_by_hr_swap_sorted)\n",
    " \n"
   ]
  },
  {
   "cell_type": "code",
   "execution_count": 22,
   "metadata": {
    "collapsed": false
   },
   "outputs": [
    {
     "name": "stdout",
     "output_type": "stream",
     "text": [
      "ask_pts_avg_by_hr_swap_sorted: \n",
      " [[29.743589743589745, '15'], [24.302325581395348, '13'], [23.394495412844037, '16'], [19.237623762376238, '17'], [18.383333333333333, '10'], [15.98165137614679, '18'], [15.718181818181819, '21'], [14.246913580246913, '20'], [14.016949152542374, '11'], [13.666666666666666, '19'], [13.508474576271187, '02'], [13.4, '06'], [12.0, '05'], [12.0, '01'], [11.87962962962963, '14'], [10.63265306122449, '08'], [10.621621621621621, '12'], [10.371428571428572, '07'], [8.44927536231884, '23'], [8.181818181818182, '00'], [8.166666666666666, '04'], [7.195652173913044, '09'], [7.138888888888889, '22'], [6.8545454545454545, '03']]\n",
      "\n",
      "show_pts_avg_by_hr_swap_sorted: \n",
      " [[55.38297872340426, '22'], [41.486486486486484, '23'], [40.698412698412696, '12'], [36.9375, '00'], [35.74193548387097, '18'], [32.47826086956522, '11'], [30.5, '19'], [29.83606557377049, '20'], [29.064102564102566, '15'], [28.106382978723403, '16'], [26.872340425531913, '17'], [25.436781609195403, '14'], [24.535714285714285, '03'], [24.448275862068964, '01'], [24.08823529411765, '13'], [21.166666666666668, '06'], [18.40740740740741, '07'], [18.129032258064516, '09'], [18.0, '10'], [17.877551020408163, '21'], [14.777777777777779, '04'], [14.722222222222221, '08'], [11.096774193548388, '02'], [5.35, '05']]\n",
      "\n",
      "other_pts_avg_by_hr_swap_sorted: \n",
      " [[59.35129740518962, '13'], [57.38255613126079, '15'], [56.778461538461535, '10'], [56.729831144465294, '14'], [55.32813932172319, '19'], [54.98661417322835, '17'], [54.58774373259053, '11'], [54.23088455772114, '00'], [53.75, '02'], [53.61076604554865, '07'], [53.43619489559165, '12'], [51.41404958677686, '16'], [51.32251082251082, '03'], [50.4212730318258, '18'], [50.325367647058826, '08'], [50.317241379310346, '09'], [47.98250336473755, '23'], [46.496385542168674, '22'], [46.35650623885918, '01'], [45.85747126436782, '05'], [45.70916334661354, '04'], [45.70498474059003, '21'], [43.04424778761062, '06'], [42.779233870967744, '20']]\n"
     ]
    }
   ],
   "source": [
    "ask_pts_avg_by_hr_swap_sorted = sorted_lst(ask_pts_avg_by_hr_swap)\n",
    "print(\"ask_pts_avg_by_hr_swap_sorted: \\n\",ask_pts_avg_by_hr_swap_sorted)\n",
    "    \n",
    "show_pts_avg_by_hr_swap_sorted = sorted_lst(show_pts_avg_by_hr_swap)\n",
    "print(\"\\nshow_pts_avg_by_hr_swap_sorted: \\n\",show_pts_avg_by_hr_swap_sorted)\n",
    "    \n",
    "other_pts_avg_by_hr_swap_sorted = sorted_lst(other_pts_avg_by_hr_swap)\n",
    "print(\"\\nother_pts_avg_by_hr_swap_sorted: \\n\",other_pts_avg_by_hr_swap_sorted)\n",
    "    "
   ]
  },
  {
   "cell_type": "code",
   "execution_count": 23,
   "metadata": {
    "collapsed": false,
    "scrolled": true
   },
   "outputs": [
    {
     "name": "stdout",
     "output_type": "stream",
     "text": [
      "Top 5 Hours for Ask Posts' comments (PST):\n",
      "12:00: 38.27 average comments per post.\n",
      "23:00: 23.46 average comments per post.\n",
      "17:00: 21.28 average comments per post.\n",
      "13:00: 16.80 average comments per post.\n",
      "18:00: 15.90 average comments per post.\n",
      "\n",
      "Top 5 Hours for Show Posts' comments (PST):\n",
      "15:00: 15.53 average comments per post.\n",
      "21:00: 15.25 average comments per post.\n",
      "19:00: 14.30 average comments per post.\n",
      "11:00: 13.54 average comments per post.\n",
      "20:00: 12.11 average comments per post.\n",
      "\n",
      "Top 5 Hours for Other Posts' comments (PST):\n",
      "11:00: 30.39 average comments per post.\n",
      "12:00: 30.38 average comments per post.\n",
      "10:00: 29.57 average comments per post.\n",
      "09:00: 28.56 average comments per post.\n",
      "08:00: 28.17 average comments per post.\n"
     ]
    }
   ],
   "source": [
    "def sorted_swap_five(a_list,param_str):\n",
    "    for row in a_list[:5]:\n",
    "        param_avg = row[0]\n",
    "        hr_str = row[1]\n",
    "        hr_dt = dt.datetime.strptime(hr_str,\"%H\")\n",
    "        hr_dt_new = hr_dt - dt.timedelta(hours = 3)\n",
    "        hr_str_new = hr_dt_new.strftime(\"%H:%M\")\n",
    "        p_str = \"{}: {:.2f} average {} per post.\"\n",
    "        p_fstr = p_str.format(hr_str_new,param_avg,param_str)\n",
    "        print(p_fstr)\n",
    "        #print(\"%s: %.2f average %s per post.\" %(hr_str_new,param_avg,param_str))\n",
    "    \n",
    "print(\"Top 5 Hours for Ask Posts' comments (PST):\")\n",
    "sorted_swap_five(ask_comments_avg_by_hr_swap_sorted,param_str='comments')\n",
    "\n",
    "print(\"\\nTop 5 Hours for Show Posts' comments (PST):\")\n",
    "sorted_swap_five(show_comments_avg_by_hr_swap_sorted,param_str='comments')\n",
    "\n",
    "print(\"\\nTop 5 Hours for Other Posts' comments (PST):\")\n",
    "sorted_swap_five(other_comments_avg_by_hr_swap_sorted,param_str='comments')\n",
    "\n"
   ]
  },
  {
   "cell_type": "markdown",
   "metadata": {},
   "source": [
    "**As indicated in the above information, among the three categories of posts, Ask Posts receive the most number of comments on average, followed by Other Posts, with Show Posts receiving the least number of comments on average.**\n",
    "\n",
    "\n",
    "***\n",
    "\n",
    "The best time for receiving comments for the different categories of posts:\n",
    "1. Ask Posts:    12:00\n",
    "2. Other Posts:  11:00/12:00\n",
    "3. Show Posts:   15:00  \n",
    "\n",
    "\n",
    "\n"
   ]
  },
  {
   "cell_type": "code",
   "execution_count": 24,
   "metadata": {
    "collapsed": false,
    "scrolled": true
   },
   "outputs": [
    {
     "name": "stdout",
     "output_type": "stream",
     "text": [
      "Top 5 Hours for Ask Posts' points (PST):\n",
      "12:00: 29.74 average points per post.\n",
      "10:00: 24.30 average points per post.\n",
      "13:00: 23.39 average points per post.\n",
      "14:00: 19.24 average points per post.\n",
      "07:00: 18.38 average points per post.\n",
      "\n",
      "Top 5 Hours for Show Posts' points (PST):\n",
      "19:00: 55.38 average points per post.\n",
      "20:00: 41.49 average points per post.\n",
      "09:00: 40.70 average points per post.\n",
      "21:00: 36.94 average points per post.\n",
      "15:00: 35.74 average points per post.\n",
      "\n",
      "Top 5 Hours for Other Posts' points (PST):\n",
      "10:00: 59.35 average points per post.\n",
      "12:00: 57.38 average points per post.\n",
      "07:00: 56.78 average points per post.\n",
      "11:00: 56.73 average points per post.\n",
      "16:00: 55.33 average points per post.\n"
     ]
    }
   ],
   "source": [
    "print(\"Top 5 Hours for Ask Posts' points (PST):\")\n",
    "sorted_swap_five(ask_pts_avg_by_hr_swap_sorted,param_str='points')\n",
    "\n",
    "print(\"\\nTop 5 Hours for Show Posts' points (PST):\")\n",
    "sorted_swap_five(show_pts_avg_by_hr_swap_sorted,param_str='points')\n",
    "\n",
    "print(\"\\nTop 5 Hours for Other Posts' points (PST):\")\n",
    "sorted_swap_five(other_pts_avg_by_hr_swap_sorted,param_str='points')\n",
    "\n"
   ]
  },
  {
   "cell_type": "markdown",
   "metadata": {},
   "source": [
    "** \n",
    "As indicated in the above information, among the three categories of posts, Other Posts receive the most number of points on average, followed by Show Posts, with Ask Posts receiving the least number of points on average.**\n",
    "\n",
    "***\n",
    "\n",
    "The best time for receiving points for the different categories of posts:\n",
    "1. Other Posts: 10:00\n",
    "2. Show Posts:  19:00\n",
    "3. Ask Posts:   12:00"
   ]
  }
 ],
 "metadata": {
  "kernelspec": {
   "display_name": "Python 3",
   "language": "python",
   "name": "python3"
  },
  "language_info": {
   "codemirror_mode": {
    "name": "ipython",
    "version": 3
   },
   "file_extension": ".py",
   "mimetype": "text/x-python",
   "name": "python",
   "nbconvert_exporter": "python",
   "pygments_lexer": "ipython3",
   "version": "3.4.3"
  }
 },
 "nbformat": 4,
 "nbformat_minor": 2
}
