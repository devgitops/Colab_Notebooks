{
 "cells": [
  {
   "cell_type": "markdown",
   "metadata": {},
   "source": [
    "# Boston Crimes:\n",
    "**Creating a database on incidents involving crime in the Boston area**"
   ]
  },
  {
   "cell_type": "markdown",
   "metadata": {},
   "source": [
    "# Creating the database and the schema\n",
    "Create a database named crime_db and a schema named crimes for storing the tables for containing the crime data.\n",
    "\n",
    "The database crime_db does not exist yet so we connect to dq."
   ]
  },
  {
   "cell_type": "code",
   "execution_count": 1,
   "metadata": {
    "collapsed": false
   },
   "outputs": [],
   "source": [
    "import psycopg2 as p\n",
    "conn = p.connect(dbname='dq', user='dq')\n",
    "conn.autocommit = True\n",
    "cur = conn.cursor()\n",
    "cur.execute('CREATE DATABASE crime_db')\n",
    "conn.autocommit = False\n",
    "conn.close()\n",
    "\n",
    "conn = p.connect(dbname='crime_db', user='dq')\n",
    "conn.autocommit = True\n",
    "cur = conn.cursor()\n",
    "cur.execute('CREATE SCHEMA crimes;')\n"
   ]
  },
  {
   "cell_type": "markdown",
   "metadata": {},
   "source": [
    "# Obtaining the Column Names and Sample\n",
    "Obtain the header row and assign it to a variable named col_headers and obtain the first data row and assign it to a variable named first_row."
   ]
  },
  {
   "cell_type": "code",
   "execution_count": 2,
   "metadata": {
    "collapsed": false
   },
   "outputs": [
    {
     "name": "stdout",
     "output_type": "stream",
     "text": [
      "['incident_number', 'offense_code', 'description', 'date', 'day_of_the_week', 'lat', 'long']\n",
      "['1', '619', 'LARCENY ALL OTHERS', '2018-09-02', 'Sunday', '42.35779134', '-71.13937053']\n"
     ]
    }
   ],
   "source": [
    "import csv as c;\n",
    "\n",
    "with open('boston.csv') as f:\n",
    "    read_file=c.reader(f);\n",
    "    col_headers = next(read_file)\n",
    "    first_row = next(read_file)\n",
    "    \n",
    "print(col_headers)\n",
    "print(first_row)\n",
    "        \n",
    "col_headers_dict = {};\n",
    "for key in col_headers:\n",
    "    col_headers_dict[key]=0;\n",
    "        \n",
    "    "
   ]
  },
  {
   "cell_type": "markdown",
   "metadata": {},
   "source": [
    "# Creating a function for analyzing column values\n",
    "Create a function get_col_values that given a CSV file name and a column index computes the set of all distinct values in that column.\n",
    "\n",
    "Use the function on each column to evaluate which columns have a lot of different values. Columns with a limited set of possible values are good candidates for enumerated datatypes."
   ]
  },
  {
   "cell_type": "code",
   "execution_count": 3,
   "metadata": {
    "collapsed": false,
    "scrolled": true
   },
   "outputs": [
    {
     "name": "stdout",
     "output_type": "stream",
     "text": [
      "incident_number: 298329\n",
      "offense_code: 219\n",
      "description: 239\n",
      "date: 1177\n",
      "day_of_the_week: 7\n",
      "lat: 18177\n",
      "long: 18177\n"
     ]
    }
   ],
   "source": [
    "def get_col_value_set(csv_filename, col_index):\n",
    "    with open(csv_filename) as f:\n",
    "        next(f);\n",
    "        read_file = c.reader(f);\n",
    "        crime_desc_set = set();\n",
    "        for row in read_file:\n",
    "            if row[col_index] not in crime_desc_set:\n",
    "                crime_desc_set.add(row[col_index]);\n",
    "    \n",
    "    return crime_desc_set\n",
    "\n",
    "\n",
    "\n",
    "for i in range(len(col_headers)):\n",
    "    csv_filename = 'boston.csv';\n",
    "    col_index = i;\n",
    "    \n",
    "    col_values = get_col_value_set(csv_filename, col_index);\n",
    "        \n",
    "    key = col_headers[i];\n",
    "    col_values_len = len(col_values);\n",
    "    col_headers_dict[key] = col_values_len; \n",
    "    print(key+': '+str(col_headers_dict[key]))\n",
    "    \n",
    "\n",
    "    \n",
    "    \n",
    "    \n"
   ]
  },
  {
   "cell_type": "markdown",
   "metadata": {},
   "source": [
    "# Analyzing the maximum length of the description column¶\n",
    "Use the get_col_set function to compute the maximum description length to decide an appropriate length for that field."
   ]
  },
  {
   "cell_type": "code",
   "execution_count": 4,
   "metadata": {
    "collapsed": false
   },
   "outputs": [
    {
     "name": "stdout",
     "output_type": "stream",
     "text": [
      "col_value_max_len:  58\n"
     ]
    }
   ],
   "source": [
    "csv_filename = 'boston.csv';\n",
    "col_index = 2;\n",
    "\n",
    "col_values = get_col_value_set(csv_filename, col_index);\n",
    "col_value_max_len = 0;\n",
    "\n",
    "for value in col_values:\n",
    "    value_len = len(value);\n",
    "    if value_len > col_value_max_len:\n",
    "        col_value_max_len = value_len\n",
    "        \n",
    "print(\"col_value_max_len: \",col_value_max_len)"
   ]
  },
  {
   "cell_type": "markdown",
   "metadata": {},
   "source": [
    "# Creating the table\n",
    "We have create an enumerated datatype named weekday for the day_of_the_week since there there only seven possible values.\n",
    "\n",
    "For the incident_number we have decided to user the type INTEGER and set it as the primary key. The same datatype was also used to represent the offense_code.\n",
    "\n",
    "Since the description has at most 58 character we decided to use the datatype VARCHAR(100) for representing it. This leave some margin while not being so big that we will waste a lot of memory.\n",
    "\n",
    "The date was represented as the DATE datatype. Finally, for the latitude and longitude we used DECIMAL datatypes."
   ]
  },
  {
   "cell_type": "code",
   "execution_count": 5,
   "metadata": {
    "collapsed": false
   },
   "outputs": [
    {
     "name": "stdout",
     "output_type": "stream",
     "text": [
      "\n",
      " ['incident_number', 'offense_code', 'description', 'date', 'day_of_the_week', 'lat', 'long']\n",
      "\n",
      " ['1', '619', 'LARCENY ALL OTHERS', '2018-09-02', 'Sunday', '42.35779134', '-71.13937053']\n"
     ]
    }
   ],
   "source": [
    "print('\\n',col_headers)\n",
    "print('\\n',first_row)"
   ]
  },
  {
   "cell_type": "markdown",
   "metadata": {},
   "source": [
    "We will use the same names for the column headers.\n",
    "\n",
    "The number of different values of each column was:\n",
    "\n",
    "    incident_number 298329\n",
    "    offense_code       219\n",
    "    description        239\n",
    "    date              1177\n",
    "    day_of_the_week      7\n",
    "    lat              18177\n",
    "    long             18177\n",
    "From the result of printing first_row we see that kind of data that we have are:\n",
    "\n",
    "    integer numbers\n",
    "    integer numbers\n",
    "    string\n",
    "    date\n",
    "    string\n",
    "    decimal number\n",
    "    decimal number\n",
    "Only column day_of_the_week has a small range of values so we will only create an enumerated datatype for this column. Column offense_code is also a good candidate since there is probably a limited set of possible offense codes.\n",
    "\n",
    "We saw that the offense_code column has size at most 59. To be on the safe side we will limit the size of the description to 100 and use the VARCHAR(100) datatype.\n",
    "\n",
    "The lat and long column see to need to hold quite a lot of precision so we will use the decimal type."
   ]
  },
  {
   "cell_type": "code",
   "execution_count": 6,
   "metadata": {
    "collapsed": false
   },
   "outputs": [],
   "source": [
    "q1 = \"CREATE TYPE weekday AS ENUM('Monday', 'Tuesday', 'Wednesday', 'Thursday', 'Friday', 'Saturday', 'Sunday');\"  \n",
    "\n",
    "q2 = \"\"\"CREATE TABLE crimes.boston_crimes (\n",
    "    incident_number INTEGER PRIMARY KEY,\n",
    "    offense_code INTEGER,\n",
    "    description VARCHAR(100),\n",
    "    date DATE,\n",
    "    day_of_the_week weekday,\n",
    "    lat decimal,\n",
    "    long decimal\n",
    "    );\"\"\"\n",
    "\n",
    "cur.execute(q1);\n",
    "cur.execute(q2);"
   ]
  },
  {
   "cell_type": "markdown",
   "metadata": {},
   "source": [
    "# Load the data into the table\n",
    "We used the copy_expert to load the data as it is very fast and very succinct to use."
   ]
  },
  {
   "cell_type": "code",
   "execution_count": 7,
   "metadata": {
    "collapsed": false
   },
   "outputs": [
    {
     "name": "stdout",
     "output_type": "stream",
     "text": [
      "298329\n"
     ]
    }
   ],
   "source": [
    "\n",
    "with open('boston.csv','r') as f:\n",
    "    q3=\"\"\"COPY crimes.boston_crimes FROM STDIN WITH CSV HEADER;\"\"\"\n",
    "    cur.copy_expert(q3,f)\n",
    "\n",
    "  \n",
    "\n",
    "    \n",
    "\n",
    "q4 = \"\"\"SELECT * FROM crimes.boston_crimes;\"\"\"\n",
    "cur.execute(q4)\n",
    "print(len(cur.fetchall()))\n",
    "\n",
    "    "
   ]
  },
  {
   "cell_type": "markdown",
   "metadata": {},
   "source": [
    "# Revoke public privileges\n",
    "We revoke all privileges of the public public group on the public schema to ensure that users will not inherit privileges on that schema such as the ability to create tables in the public schema.\n",
    "\n",
    "We also need to revoke all privileges in the newly created schema. Doing this also makes it so that we do not need to revoke the privileges when we create users and groups because unless specified otherwise, privileges are not granted by default."
   ]
  },
  {
   "cell_type": "code",
   "execution_count": 8,
   "metadata": {
    "collapsed": true
   },
   "outputs": [],
   "source": [
    "q5 = \"\"\"REVOKE ALL ON SCHEMA public FROM public;\"\"\"\n",
    "q6 = \"\"\"REVOKE ALL ON DATABASE crime_db FROM public;\"\"\"\n",
    "cur.execute(q5)\n",
    "cur.execute(q6)"
   ]
  },
  {
   "cell_type": "markdown",
   "metadata": {},
   "source": [
    "# Creating the read only group\n",
    "We create a readonly group with NOLOGIN because it is a group and not a user. We grant the group the ability to connect to the crime_db and the ability to use the crimes schema.\n",
    "\n",
    "Then we deal with tables privileges by granting SELECT. We also add an extra line compared with what was asked. This extra line changes the way that privileges are given by default to the readonly group on new table that are created on the crimes schema. As we mentioned, by default no privileges are given. However we change it so that by default any user in the readonly group can issue select commands."
   ]
  },
  {
   "cell_type": "code",
   "execution_count": 9,
   "metadata": {
    "collapsed": false
   },
   "outputs": [],
   "source": [
    "q7 = \"\"\"CREATE GROUP readonly NOLOGIN;\"\"\"\n",
    "q9 = \"\"\"GRANT CONNECT ON DATABASE crime_db TO readonly\"\"\"\n",
    "q11= \"\"\"GRANT USAGE ON SCHEMA crimes TO readonly\"\"\"\n",
    "q13= \"\"\"GRANT SELECT ON ALL TABLES IN SCHEMA crimes TO readonly;\"\"\"\n",
    "\n",
    "cur.execute(q7)\n",
    "cur.execute(q9)\n",
    "cur.execute(q11)\n",
    "cur.execute(q13)\n"
   ]
  },
  {
   "cell_type": "markdown",
   "metadata": {},
   "source": [
    "# Creating the read-write group\n",
    "We create a readwrite group with NOLOGIN because it is a group and not a user. We grant the group the ability to connect to the crime_db and the ability to use the crimes schema.\n",
    "\n",
    "Then we deal wit tables privileges by granting SELECT, INSERT, UPDATE and DELETE. As before we change the default privileges so that user in the readwrite group have these privileges if we ever create a new table on the crimes schema."
   ]
  },
  {
   "cell_type": "code",
   "execution_count": 10,
   "metadata": {
    "collapsed": true
   },
   "outputs": [],
   "source": [
    "q8 = \"\"\"CREATE GROUP readwrite NOLOGIN;\"\"\"\n",
    "q10= \"\"\"GRANT CONNECT ON DATABASE crime_db TO readwrite\"\"\"\n",
    "q12= \"\"\"GRANT USAGE ON SCHEMA crimes TO readwrite\"\"\"\n",
    "q14= \"\"\"GRANT SELECT, INSERT, DELETE, UPDATE ON ALL TABLES IN SCHEMA crimes TO readwrite;\"\"\"  \n",
    "\n",
    "cur.execute(q8)\n",
    "cur.execute(q10)\n",
    "cur.execute(q12)\n",
    "cur.execute(q14)"
   ]
  },
  {
   "cell_type": "markdown",
   "metadata": {},
   "source": [
    "# Creating one user for each group\n",
    "We create a user named data_analyst with password secret1 in the readonly group.\n",
    "\n",
    "We create a user named data_scientist with password secret2 in the readwrite group."
   ]
  },
  {
   "cell_type": "code",
   "execution_count": 11,
   "metadata": {
    "collapsed": false
   },
   "outputs": [],
   "source": [
    "q15= \"\"\"CREATE USER data_analyst WITH PASSWORD 'secret1';\"\"\"\n",
    "q16= \"\"\"GRANT readonly TO data_analyst;\"\"\"\n",
    "cur.execute(q15)\n",
    "cur.execute(q16)\n",
    "\n",
    "q17= \"\"\"CREATE USER data_scientist WITH PASSWORD 'secret2';\"\"\"\n",
    "q18= \"\"\"GRANT readwrite TO data_scientist;\"\"\"\n",
    "cur.execute(q17)\n",
    "cur.execute(q18)\n",
    "\n"
   ]
  },
  {
   "cell_type": "markdown",
   "metadata": {
    "collapsed": true
   },
   "source": [
    "# Test the database setup\n",
    "Test the database setup using SQL queries on the pg_roles table and information_schema.table_privileges.\n",
    "\n",
    "In the pg_roles table we will check database related privileges and for that we will look at the following columns:\n",
    "\n",
    "    rolname: The name of the user / group that the privilege refers to.\n",
    "    rolsuper: Whether this user / group is a super user. It should be set to      False on every user / group that we have created.\n",
    "    rolcreaterole: Whether user / group can create users, groups or roles. It should be False on every user / group that we have created.\n",
    "    rolcreatedb: Whether user / group can create databases. It should be False on every user / group that we have created.\n",
    "    rolcanlogin: Whether user / group can login. It should be True on the users and False on the groups that we have created.\n",
    "    \n",
    "In the information_schema.table_privileges we will check privileges related to SQL queries on tables. We will list the privileges of each group that we have created."
   ]
  },
  {
   "cell_type": "code",
   "execution_count": 12,
   "metadata": {
    "collapsed": false
   },
   "outputs": [
    {
     "name": "stdout",
     "output_type": "stream",
     "text": [
      "('readonly', False, False, False, False)\n",
      "('readwrite', False, False, False, False)\n",
      "('data_analyst', False, False, False, True)\n",
      "('data_scientist', False, False, False, True)\n",
      "\n",
      "('readonly', 'SELECT')\n",
      "('readwrite', 'INSERT')\n",
      "('readwrite', 'SELECT')\n",
      "('readwrite', 'UPDATE')\n",
      "('readwrite', 'DELETE')\n"
     ]
    }
   ],
   "source": [
    "q19= \"\"\"SELECT rolname, rolsuper, rolcreaterole, rolcreatedb, rolcanlogin\n",
    "            FROM pg_roles\n",
    "            WHERE rolname IN ('readonly','readwrite','data_analyst','data_scientist');\n",
    "     \"\"\" \n",
    "\n",
    "q20= \"\"\"SELECT grantee, privilege_type\n",
    "            FROM information_schema.table_privileges\n",
    "            WHERE grantee IN ('readonly','readwrite');\n",
    "\n",
    "     \"\"\"\n",
    "\n",
    "cur.execute(q19)\n",
    "pg_roles = cur.fetchall()\n",
    "for row in pg_roles:\n",
    "    print(row)\n",
    "    \n",
    "print()\n",
    "\n",
    "cur.execute(q20)\n",
    "privileges = cur.fetchall()\n",
    "for row in privileges:\n",
    "    print(row)\n",
    "\n",
    "\n",
    "conn.close()\n",
    "\n"
   ]
  }
 ],
 "metadata": {
  "kernelspec": {
   "display_name": "Python 3",
   "language": "python",
   "name": "python3"
  },
  "language_info": {
   "codemirror_mode": {
    "name": "ipython",
    "version": 3
   },
   "file_extension": ".py",
   "mimetype": "text/x-python",
   "name": "python",
   "nbconvert_exporter": "python",
   "pygments_lexer": "ipython3",
   "version": "3.4.3"
  }
 },
 "nbformat": 4,
 "nbformat_minor": 2
}
